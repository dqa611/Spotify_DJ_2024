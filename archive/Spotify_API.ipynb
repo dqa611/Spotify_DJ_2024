{
 "cells": [
  {
   "cell_type": "markdown",
   "metadata": {},
   "source": [
    "# Introduction"
   ]
  },
  {
   "cell_type": "markdown",
   "metadata": {},
   "source": [
    "This notebook will pull a Spotify playlist's data using Spotipy libraries and Spotify API.\n",
    "\n",
    "For more information, please visit https://spotipy.readthedocs.io/en/latest/. Watch https://www.youtube.com/watch?v=vipVEWe86Lg&t=242s for more information\n",
    "\n",
    "The required inputs for this notebooks are as followings: \n",
    "- Spotify Client ID and Secret key, which can be found in Spotify Dashboard\n",
    "- User's Spotify ID\n",
    "- Playlist\n",
    "\n",
    "Note: Spotify API limits the number of tracks pulled up to 49 tracks. Therefore, the notebook contains a loop to automate this process"
   ]
  },
  {
   "cell_type": "markdown",
   "metadata": {},
   "source": [
    "Import Libraries"
   ]
  },
  {
   "cell_type": "code",
   "execution_count": 1,
   "metadata": {},
   "outputs": [],
   "source": [
    "import urllib.request\n",
    "from urllib.request import urlopen\n",
    "\n",
    "import sys\n",
    "import spotipy\n",
    "import spotipy.util as util\n",
    "import os\n",
    "import json\n",
    "import webbrowser\n",
    "from json.decoder import JSONDecodeError\n",
    "\n",
    "import random"
   ]
  },
  {
   "cell_type": "markdown",
   "metadata": {},
   "source": [
    "Expand Screen"
   ]
  },
  {
   "cell_type": "code",
   "execution_count": null,
   "metadata": {
    "scrolled": true
   },
   "outputs": [],
   "source": [
    "from IPython.core.display import display, HTML\n",
    "display(HTML(\"<style>.container { width:100% !important; }</style>\"))"
   ]
  },
  {
   "cell_type": "markdown",
   "metadata": {},
   "source": [
    "# Input"
   ]
  },
  {
   "cell_type": "code",
   "execution_count": null,
   "metadata": {},
   "outputs": [],
   "source": [
    "playlist_id = input('Enter playlist ID: ')\n",
    "playlist_id = playlist_id[17:]"
   ]
  },
  {
   "cell_type": "code",
   "execution_count": 2,
   "metadata": {},
   "outputs": [
    {
     "ename": "NameError",
     "evalue": "name 'client_id' is not defined",
     "output_type": "error",
     "traceback": [
      "\u001b[1;31m---------------------------------------------------------------------------\u001b[0m",
      "\u001b[1;31mNameError\u001b[0m                                 Traceback (most recent call last)",
      "Input \u001b[1;32mIn [2]\u001b[0m, in \u001b[0;36m<cell line: 2>\u001b[1;34m()\u001b[0m\n\u001b[0;32m      1\u001b[0m USERNAME \u001b[38;5;241m=\u001b[39m sys\u001b[38;5;241m.\u001b[39margv[\u001b[38;5;241m1\u001b[39m] \n\u001b[1;32m----> 2\u001b[0m CLIENT_ID \u001b[38;5;241m=\u001b[39m \u001b[43mclient_id\u001b[49m\u001b[38;5;66;03m# Go to Spotify App Developer Dashboard\u001b[39;00m\n\u001b[0;32m      3\u001b[0m CLIENT_SECRET \u001b[38;5;241m=\u001b[39m client_secret \u001b[38;5;66;03m# Go to Spotify App Developer Dashboard\u001b[39;00m\n\u001b[0;32m      4\u001b[0m REDIRECT_URI \u001b[38;5;241m=\u001b[39m \u001b[38;5;124m'\u001b[39m\u001b[38;5;124mhttp://google.com/\u001b[39m\u001b[38;5;124m'\u001b[39m \u001b[38;5;66;03m# Set it as 'http://google.com/'\u001b[39;00m\n",
      "\u001b[1;31mNameError\u001b[0m: name 'client_id' is not defined"
     ]
    }
   ],
   "source": [
    "USERNAME = sys.argv[1] \n",
    "CLIENT_ID = client_id# Go to Spotify App Developer Dashboard\n",
    "CLIENT_SECRET = client_secret # Go to Spotify App Developer Dashboard\n",
    "REDIRECT_URI = 'http://google.com/' # Set it as 'http://google.com/'\n",
    "SCOPE = scope # will give user to modify"
   ]
  },
  {
   "cell_type": "markdown",
   "metadata": {},
   "source": [
    "# Body Script"
   ]
  },
  {
   "cell_type": "markdown",
   "metadata": {},
   "source": [
    "###### Get access using API"
   ]
  },
  {
   "cell_type": "code",
   "execution_count": null,
   "metadata": {},
   "outputs": [],
   "source": [
    "def run_spotify_api():\n",
    "    try:\n",
    "        token = util.prompt_for_user_token(username = USERNAME, \n",
    "                                       scope = SCOPE, \n",
    "                                       client_id = CLIENT_ID, \n",
    "                                       client_secret = CLIENT_SECRET, \n",
    "                                       redirect_uri = REDIRECT_URI)\n",
    "    except:\n",
    "        os.remove(f\".cache~{username}\")\n",
    "        token = util.prompt_for_user_token(username = USERNAME, \n",
    "                                       scope = SCOPE, \n",
    "                                       client_id = CLIENT_ID, \n",
    "                                       client_secret = CLIENT_SECRET, \n",
    "                                       redirect_uri = REDIRECT_URI)\n",
    "    sp = spotipy.Spotify(auth=token)\n",
    "    return sp"
   ]
  },
  {
   "cell_type": "markdown",
   "metadata": {},
   "source": [
    "### Get User's Playlist"
   ]
  },
  {
   "cell_type": "code",
   "execution_count": null,
   "metadata": {},
   "outputs": [],
   "source": [
    "# Function to show track\n",
    "def show_tracks(tracks):\n",
    "    track_list = []\n",
    "    for i, item in enumerate(tracks['items']):\n",
    "        track = item['track']\n",
    "        track_list.append((i, track['artists'][0]['name'], track['name'], track['album']['name']))\n",
    "    return track_list"
   ]
  },
  {
   "cell_type": "code",
   "execution_count": null,
   "metadata": {
    "scrolled": true
   },
   "outputs": [],
   "source": [
    "def run_spotify_get_playlist_tracks(playlist_id):\n",
    "    # Get playlist from Spotify API\n",
    "    playlist = sp.user_playlist(user_spotify_id, playlist_id)\n",
    "    print(playlist['name'])\n",
    "    print('Total tracks', playlist['tracks']['total'])\n",
    "\n",
    "    tracks = playlist['tracks']\n",
    "    my_playlist = show_tracks(tracks)\n",
    "    while tracks['next']:\n",
    "        tracks = sp.next(tracks)\n",
    "        my_playlist = show_tracks(tracks)\n",
    "    \n",
    "    # Convert from tuple to list\n",
    "    for i in range(len(my_playlist)):\n",
    "        my_playlist[i] = list(my_playlist[i])\n",
    "\n",
    "    # Remove character ' in the track data\n",
    "    for i in range(len(my_playlist)):\n",
    "        for y in range(1,3):\n",
    "            my_playlist[i][y] = my_playlist[i][y].replace(\"'\",\"\")\n",
    "    return my_playlist"
   ]
  },
  {
   "cell_type": "markdown",
   "metadata": {},
   "source": [
    "### Get Track's ID"
   ]
  },
  {
   "cell_type": "code",
   "execution_count": null,
   "metadata": {},
   "outputs": [],
   "source": [
    "def search_track_id(track_name, artist, album):\n",
    "    # Create a dictionary for result\n",
    "    search_result = dict.fromkeys(['track_name', 'artist', 'album', 'track_id', 'popularity'])\n",
    "    \n",
    "    # Limit number of raw result output of 10 and market in US\n",
    "    # Search by Track name first\n",
    "    if album == '':\n",
    "        album = '{}'\n",
    "    else: \n",
    "        album = album\n",
    "       \n",
    "    searched_raw_result = sp.search(q=\"album: \"+ album + \" artist: \" + artist + \" track: \" + track_name, limit=1, type='track', market=None)\n",
    "    # Search by Artist name\n",
    "    searched_raw_result1 = searched_raw_result['tracks']['items']\n",
    "    \n",
    "    if len(searched_raw_result1) >0:\n",
    "        search_result.update(track_name = searched_raw_result1[0]['name'],\n",
    "                             artist = searched_raw_result1[0]['album']['artists'][0]['name'], \n",
    "                             album = searched_raw_result1[0]['album']['name'],\n",
    "                             track_id = searched_raw_result1[0]['uri'][14:],\n",
    "                             popularity = searched_raw_result1[0]['popularity'])\n",
    "    return search_result"
   ]
  },
  {
   "cell_type": "markdown",
   "metadata": {},
   "source": [
    "### Get Track Data from User's Playlist"
   ]
  },
  {
   "cell_type": "code",
   "execution_count": null,
   "metadata": {},
   "outputs": [],
   "source": [
    "def get_data(tracks_selection, my_playlist):\n",
    "    playlist_data = [] \n",
    "\n",
    "    for i in tracks_selection:\n",
    "        # Get Track ID by track name, artist and album collected from the playlist\n",
    "        track_find_id = search_track_id(track_name = my_playlist[i][2], artist = my_playlist[i][1], album = my_playlist[i][3])\n",
    "        if track_find_id['track_id'] is not None:\n",
    "        # Get Track Audio Features\n",
    "            track_audio_features = sp.audio_features(track_find_id['track_id'])\n",
    "\n",
    "            # Get Track Audio Analysis\n",
    "            audio_analysis_dict = dict.fromkeys(['sections'])\n",
    "            audio_analysis_dict.update(sections = sp.audio_analysis(track_find_id['track_id'])['sections'])\n",
    "\n",
    "            # Merge 2 dictionaries into one\n",
    "            track_audio_data = dict(track_audio_features[0], **audio_analysis_dict)\n",
    "            track_data = dict(track_find_id, **track_audio_data)\n",
    "\n",
    "            playlist_data.append(track_data)\n",
    "    return playlist_data"
   ]
  },
  {
   "cell_type": "markdown",
   "metadata": {},
   "source": [
    "### Run Notebook and Export File"
   ]
  },
  {
   "cell_type": "code",
   "execution_count": null,
   "metadata": {},
   "outputs": [],
   "source": [
    "sp = run_spotify_api()\n",
    "my_playlist = run_spotify_get_playlist_tracks(playlist_id)\n",
    "\n",
    "# Spotify API allows only 100 tracks per playlist. Later we can combine data\n",
    "playlist_data = get_data(range(len(my_playlist)), my_playlist)"
   ]
  },
  {
   "cell_type": "code",
   "execution_count": null,
   "metadata": {},
   "outputs": [],
   "source": [
    "playlist_name = sp.user_playlist(user_spotify_id, playlist_id)['name']\n",
    "print(playlist_name)"
   ]
  },
  {
   "cell_type": "code",
   "execution_count": null,
   "metadata": {},
   "outputs": [],
   "source": [
    "import json\n",
    "json = json.dumps(playlist_data)\n",
    "\n",
    "f = open(local_address +  user_spotify_name + '_' + playlist_name + \"_playlist_data.json\",\"w\")\n",
    "f.write(json)\n",
    "f.close()"
   ]
  }
 ],
 "metadata": {
  "kernelspec": {
   "display_name": "Python 3",
   "language": "python",
   "name": "python3"
  },
  "language_info": {
   "codemirror_mode": {
    "name": "ipython",
    "version": 3
   },
   "file_extension": ".py",
   "mimetype": "text/x-python",
   "name": "python",
   "nbconvert_exporter": "python",
   "pygments_lexer": "ipython3",
   "version": "3.9.12"
  }
 },
 "nbformat": 4,
 "nbformat_minor": 2
}
