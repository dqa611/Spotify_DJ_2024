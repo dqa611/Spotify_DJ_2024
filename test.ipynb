{
 "cells": [
  {
   "cell_type": "markdown",
   "metadata": {},
   "source": [
    "Import Py files from Repo"
   ]
  },
  {
   "cell_type": "code",
   "execution_count": 1,
   "metadata": {},
   "outputs": [],
   "source": [
    "from importlib import reload\n",
    "from IPython.display import Image\n",
    "\n",
    "import pandas as pd\n",
    "pd.set_option('display.max_columns', None)\n",
    "\n",
    "from QuocAnh_py.others.install_packages import import_or_install_packages\n",
    "import_or_install_packages()"
   ]
  },
  {
   "cell_type": "code",
   "execution_count": 2,
   "metadata": {},
   "outputs": [],
   "source": [
    "from QuocAnh_py.execute.init import import_settings\n",
    "\n",
    "import QuocAnh_py.others.shortcuts as sc\n",
    "reload(sc)\n",
    "import QuocAnh_py.others.utilities as ult\n",
    "reload(ult)\n",
    "\n",
    "from QuocAnh_py.execute.init import get_df\n",
    "\n",
    "import QuocAnh_py.dj.best_next_tracks\n",
    "reload(QuocAnh_py.dj.best_next_tracks)\n",
    "from QuocAnh_py.dj.best_next_tracks import run_best_next_tracks\n",
    "\n",
    "import QuocAnh_py.dj.sorting_playlist\n",
    "reload(QuocAnh_py.dj.sorting_playlist)\n",
    "from QuocAnh_py.dj.sorting_playlist import sort_playlist\n",
    "\n",
    "import QuocAnh_py.models.common_text_score\n",
    "reload(QuocAnh_py.models.common_text_score)\n",
    "from QuocAnh_py.models.common_text_score import run_common_text_score\n",
    "\n",
    "import QuocAnh_py.models.harmonic_keys\n",
    "reload(QuocAnh_py.models.harmonic_keys)\n",
    "from QuocAnh_py.models.harmonic_keys import run_harmonic_tracks, key_translate\n",
    "\n",
    "import QuocAnh_py.models.nearest_neighbor\n",
    "reload(QuocAnh_py.models.nearest_neighbor)\n",
    "from QuocAnh_py.models.nearest_neighbor import run_nearest_neighbor\n",
    "\n",
    "import  QuocAnh_py.others.plots as myplts\n",
    "reload(myplts) \n",
    "\n",
    "import QuocAnh_py.spotify.spotify_crawling as spc\n",
    "from QuocAnh_py.spotify.spotify_playlist_import_export import export_playlist\n",
    "\n",
    "from QuocAnh_py.spotify.spotify_api import sp"
   ]
  },
  {
   "cell_type": "markdown",
   "metadata": {},
   "source": [
    "Test Functions"
   ]
  },
  {
   "cell_type": "code",
   "execution_count": null,
   "metadata": {},
   "outputs": [],
   "source": [
    "artist = \"\"\n",
    "track_name = \"who let the dogs out\"\n",
    "album = \"\"\n",
    "\n",
    "test_track = spc.get_track_data_from_search(track_name, artist)\n",
    "print('Get track data from search:')\n",
    "track_data = spc.get_tracks_data(test_track)\n",
    "display(track_data)\n",
    "\n",
    "print('Get artist data from artist id: ')\n",
    "artist_id = test_track[\"artists\"][0][\"id\"]\n",
    "artist_data = spc.get_artist(artist_id)\n",
    "display(artist_data)\n",
    "\n",
    "print('Get track audio data from track id: ')\n",
    "track_id = test_track['id']\n",
    "audio = sp.audio_features(track_id)\n",
    "track_audio = spc.get_tracks_audio_features(audio[0])\n",
    "display(track_audio)"
   ]
  },
  {
   "cell_type": "markdown",
   "metadata": {},
   "source": [
    "Import Playlist (Spotify API only allows to pull 99 tracks per playlist)"
   ]
  },
  {
   "cell_type": "code",
   "execution_count": 3,
   "metadata": {},
   "outputs": [
    {
     "name": "stdout",
     "output_type": "stream",
     "text": [
      "Getting the Spotify playlist data from ./data/spotify_playlist_data.csv\n"
     ]
    }
   ],
   "source": [
    "df = get_df(playlist_import=False) "
   ]
  },
  {
   "cell_type": "markdown",
   "metadata": {},
   "source": [
    "Input"
   ]
  },
  {
   "cell_type": "code",
   "execution_count": 4,
   "metadata": {},
   "outputs": [
    {
     "data": {
      "text/html": [
       "<div>\n",
       "<style scoped>\n",
       "    .dataframe tbody tr th:only-of-type {\n",
       "        vertical-align: middle;\n",
       "    }\n",
       "\n",
       "    .dataframe tbody tr th {\n",
       "        vertical-align: top;\n",
       "    }\n",
       "\n",
       "    .dataframe thead th {\n",
       "        text-align: right;\n",
       "    }\n",
       "</style>\n",
       "<table border=\"1\" class=\"dataframe\">\n",
       "  <thead>\n",
       "    <tr style=\"text-align: right;\">\n",
       "      <th></th>\n",
       "      <th>track_name</th>\n",
       "      <th>artist</th>\n",
       "      <th>artist_id</th>\n",
       "      <th>album</th>\n",
       "      <th>album_id</th>\n",
       "      <th>album_releasedate</th>\n",
       "      <th>track_popularity</th>\n",
       "      <th>duration</th>\n",
       "      <th>danceability</th>\n",
       "      <th>energy</th>\n",
       "      <th>key</th>\n",
       "      <th>loudness</th>\n",
       "      <th>mode</th>\n",
       "      <th>speechiness</th>\n",
       "      <th>acousticness</th>\n",
       "      <th>instrumentalness</th>\n",
       "      <th>liveness</th>\n",
       "      <th>valence</th>\n",
       "      <th>tempo</th>\n",
       "      <th>artist_genres</th>\n",
       "      <th>artist_popularity</th>\n",
       "      <th>playlist_id</th>\n",
       "      <th>playlist_name</th>\n",
       "      <th>playlist_owner</th>\n",
       "      <th>playlist_owner_id</th>\n",
       "      <th>duration_min</th>\n",
       "      <th>translated_key</th>\n",
       "      <th>year_released</th>\n",
       "    </tr>\n",
       "    <tr>\n",
       "      <th>track_id</th>\n",
       "      <th></th>\n",
       "      <th></th>\n",
       "      <th></th>\n",
       "      <th></th>\n",
       "      <th></th>\n",
       "      <th></th>\n",
       "      <th></th>\n",
       "      <th></th>\n",
       "      <th></th>\n",
       "      <th></th>\n",
       "      <th></th>\n",
       "      <th></th>\n",
       "      <th></th>\n",
       "      <th></th>\n",
       "      <th></th>\n",
       "      <th></th>\n",
       "      <th></th>\n",
       "      <th></th>\n",
       "      <th></th>\n",
       "      <th></th>\n",
       "      <th></th>\n",
       "      <th></th>\n",
       "      <th></th>\n",
       "      <th></th>\n",
       "      <th></th>\n",
       "      <th></th>\n",
       "      <th></th>\n",
       "      <th></th>\n",
       "    </tr>\n",
       "  </thead>\n",
       "  <tbody>\n",
       "    <tr>\n",
       "      <th>3AJwUDP919kvQ9QcozQPxg</th>\n",
       "      <td>Yellow</td>\n",
       "      <td>Coldplay</td>\n",
       "      <td>4gzpq5DPGxSnKTe4SA8HAU</td>\n",
       "      <td>Parachutes</td>\n",
       "      <td>6ZG5lRT77aJ3btmArcykra</td>\n",
       "      <td>7/10/2000</td>\n",
       "      <td>89</td>\n",
       "      <td>266773</td>\n",
       "      <td>0.429</td>\n",
       "      <td>0.661</td>\n",
       "      <td>11</td>\n",
       "      <td>-7.227</td>\n",
       "      <td>1</td>\n",
       "      <td>0.0281</td>\n",
       "      <td>0.00239</td>\n",
       "      <td>0.000121</td>\n",
       "      <td>0.234</td>\n",
       "      <td>0.285</td>\n",
       "      <td>173.372</td>\n",
       "      <td>permanent wave | pop</td>\n",
       "      <td>84</td>\n",
       "      <td>2N9pjdn0Bpl39UzB7WqQHZ</td>\n",
       "      <td>Test Playlist</td>\n",
       "      <td>Quoc-Anh Duong</td>\n",
       "      <td>1214868237</td>\n",
       "      <td>4.45</td>\n",
       "      <td>B</td>\n",
       "      <td>2000</td>\n",
       "    </tr>\n",
       "  </tbody>\n",
       "</table>\n",
       "</div>"
      ],
      "text/plain": [
       "                       track_name    artist               artist_id  \\\n",
       "track_id                                                              \n",
       "3AJwUDP919kvQ9QcozQPxg     Yellow  Coldplay  4gzpq5DPGxSnKTe4SA8HAU   \n",
       "\n",
       "                             album                album_id album_releasedate  \\\n",
       "track_id                                                                       \n",
       "3AJwUDP919kvQ9QcozQPxg  Parachutes  6ZG5lRT77aJ3btmArcykra         7/10/2000   \n",
       "\n",
       "                        track_popularity  duration  danceability  energy  key  \\\n",
       "track_id                                                                        \n",
       "3AJwUDP919kvQ9QcozQPxg                89    266773         0.429   0.661   11   \n",
       "\n",
       "                        loudness  mode  speechiness  acousticness  \\\n",
       "track_id                                                            \n",
       "3AJwUDP919kvQ9QcozQPxg    -7.227     1       0.0281       0.00239   \n",
       "\n",
       "                        instrumentalness  liveness  valence    tempo  \\\n",
       "track_id                                                               \n",
       "3AJwUDP919kvQ9QcozQPxg          0.000121     0.234    0.285  173.372   \n",
       "\n",
       "                               artist_genres  artist_popularity  \\\n",
       "track_id                                                          \n",
       "3AJwUDP919kvQ9QcozQPxg  permanent wave | pop                 84   \n",
       "\n",
       "                                   playlist_id  playlist_name  playlist_owner  \\\n",
       "track_id                                                                        \n",
       "3AJwUDP919kvQ9QcozQPxg  2N9pjdn0Bpl39UzB7WqQHZ  Test Playlist  Quoc-Anh Duong   \n",
       "\n",
       "                        playlist_owner_id  duration_min translated_key  \\\n",
       "track_id                                                                 \n",
       "3AJwUDP919kvQ9QcozQPxg         1214868237          4.45              B   \n",
       "\n",
       "                        year_released  \n",
       "track_id                               \n",
       "3AJwUDP919kvQ9QcozQPxg           2000  "
      ]
     },
     "metadata": {},
     "output_type": "display_data"
    }
   ],
   "source": [
    "search_keyword = \"yellow\"\n",
    "found_df = ult.get_data_from_search(search_keyword, \"track_name\", df)\n",
    "found_index = found_df.index[0]\n",
    "display(found_df)"
   ]
  },
  {
   "cell_type": "markdown",
   "metadata": {},
   "source": [
    "Seasborn Pairplot Matrix"
   ]
  },
  {
   "cell_type": "code",
   "execution_count": null,
   "metadata": {},
   "outputs": [],
   "source": [
    "search_keyword = \"yellow\"\n",
    "found_df = ult.get_data_from_search(search_keyword, \"track_name\", df)\n",
    "found_index = found_df.index[0]\n",
    "\n",
    "myplts.corre_plot(df, found_index, \"Imported Playlist\")"
   ]
  },
  {
   "cell_type": "code",
   "execution_count": null,
   "metadata": {},
   "outputs": [],
   "source": [
    "myplts.wordcloud_plot(df['artist_genres'])"
   ]
  },
  {
   "cell_type": "code",
   "execution_count": null,
   "metadata": {},
   "outputs": [],
   "source": [
    "Image(filename='.\\\\data\\\\images\\\\best_next_track1.png')"
   ]
  },
  {
   "cell_type": "code",
   "execution_count": null,
   "metadata": {},
   "outputs": [],
   "source": [
    "search_keyword = \"rolling in the deep\"\n",
    "found_df = ult.get_data_from_search(search_keyword, \"track_name\", df)\n",
    "found_index = found_df.index[0]\n",
    "\n",
    "common_genres_tracks_test = run_common_text_score(df, found_index, print_add_cols=True)\n",
    "display(common_genres_tracks_test)"
   ]
  },
  {
   "cell_type": "markdown",
   "metadata": {},
   "source": [
    "Harmonic Keys"
   ]
  },
  {
   "cell_type": "code",
   "execution_count": null,
   "metadata": {},
   "outputs": [],
   "source": [
    "Image(filename='.\\\\data\\\\images\\\\camelot_wheel.png')"
   ]
  },
  {
   "cell_type": "code",
   "execution_count": null,
   "metadata": {},
   "outputs": [],
   "source": [
    "Image(filename='.\\\\data\\\\images\\\\key_mixing.png')"
   ]
  },
  {
   "cell_type": "code",
   "execution_count": null,
   "metadata": {},
   "outputs": [],
   "source": [
    "search_keyword = \"flowers\"\n",
    "found_df = ult.get_data_from_search(search_keyword, \"track_name\", df)\n",
    "found_index = found_df.index[0]\n",
    "\n",
    "print(f\"The track '{ult.get_data_from_index(df, found_index, 'track_name')}' by '{ult.get_data_from_index(df, found_index, 'artist')}' is in the key '{key_translate(df.loc[found_index,'key'], df.loc[found_index,'mode'])}'. Compatible scales are: \")\n",
    "\n",
    "harmonic_tracks_test = run_harmonic_tracks(df, found_index, grouped=True, drop_dups_cols=False)\n",
    "display(harmonic_tracks_test)"
   ]
  },
  {
   "cell_type": "markdown",
   "metadata": {},
   "source": [
    "Nearest Neighbor"
   ]
  },
  {
   "cell_type": "code",
   "execution_count": null,
   "metadata": {},
   "outputs": [],
   "source": [
    "search_keyword = \"flowers\"\n",
    "found_df = ult.get_data_from_search(search_keyword, \"track_name\", df)\n",
    "found_index = found_df.index[0]\n",
    "\n",
    "nn_tracks_test = run_nearest_neighbor(df, found_index, print_input_msg=True, print_add_cols=True)\n",
    "display(nn_tracks_test)"
   ]
  },
  {
   "cell_type": "markdown",
   "metadata": {},
   "source": [
    "Best Next Tracks"
   ]
  },
  {
   "cell_type": "code",
   "execution_count": null,
   "metadata": {},
   "outputs": [],
   "source": [
    "Image(filename='.\\\\data\\\\images\\\\best_next_track2.png')"
   ]
  },
  {
   "cell_type": "code",
   "execution_count": null,
   "metadata": {},
   "outputs": [],
   "source": [
    "search_keyword = \"flowers\"\n",
    "found_df = ult.get_data_from_search(search_keyword, \"track_name\", df)\n",
    "found_index = found_df.index[0]\n",
    "\n",
    "found_best_next_track = run_best_next_tracks(df, found_index, used_track = [], remove_input_track= False, print_add_cols=True, print_msg=True)\n",
    "display(found_best_next_track)"
   ]
  },
  {
   "cell_type": "markdown",
   "metadata": {},
   "source": [
    "Sort Playlist"
   ]
  },
  {
   "cell_type": "code",
   "execution_count": 9,
   "metadata": {},
   "outputs": [],
   "source": [
    "import QuocAnh_py.dj.sorting_playlist as sp\n",
    "reload(sp)\n",
    "from QuocAnh_py.dj.sorting_playlist import sort_playlist"
   ]
  },
  {
   "cell_type": "code",
   "execution_count": 14,
   "metadata": {},
   "outputs": [
    {
     "name": "stdout",
     "output_type": "stream",
     "text": [
      "Selecting the intersection of all keys: common_text_score|harmonic_keys|nearest_neighbor\n",
      "Track input 3AJwUDP919kvQ9QcozQPxg, '['Yellow']'\n",
      "Apply randomization from settings.json\n",
      "Choosing the best next track by selecting the first index\n",
      "Searching ['Yellow']'s best next track\n",
      "Selecting the intersection of all keys: common_text_score|harmonic_keys|nearest_neighbor\n",
      "Searching ['Blinding Lights']'s best next track\n",
      "Selecting the intersection of all keys: common_text_score|harmonic_keys|nearest_neighbor\n",
      "Searching ['Heart Attack']'s best next track\n",
      "The model results from '['Heart Attack']' don't have any intersection besides the input index. Moving on to applying preferred order\n",
      "Key common_text_score|nearest_neighbor has no intersection or the input index is not in it\n",
      "Select track from intersection: harmonic_keys|nearest_neighbor\n",
      "Searching ['Cruel Summer']'s best next track\n",
      "Selecting the intersection of all keys: common_text_score|harmonic_keys|nearest_neighbor\n",
      "Searching ['As It Was']'s best next track\n",
      "Selecting the intersection of all keys: common_text_score|harmonic_keys|nearest_neighbor\n",
      "Searching ['Thunder']'s best next track\n",
      "Selecting the intersection of all keys: common_text_score|harmonic_keys|nearest_neighbor\n",
      "Searching ['505']'s best next track\n",
      "The model results from '['505']' don't have any intersection besides the input index. Moving on to applying preferred order\n",
      "Select track from intersection: common_text_score|nearest_neighbor\n",
      "Playlist sorted successfully. Total duration: 30 minutes\n"
     ]
    },
    {
     "data": {
      "text/html": [
       "<div>\n",
       "<style scoped>\n",
       "    .dataframe tbody tr th:only-of-type {\n",
       "        vertical-align: middle;\n",
       "    }\n",
       "\n",
       "    .dataframe tbody tr th {\n",
       "        vertical-align: top;\n",
       "    }\n",
       "\n",
       "    .dataframe thead th {\n",
       "        text-align: right;\n",
       "    }\n",
       "</style>\n",
       "<table border=\"1\" class=\"dataframe\">\n",
       "  <thead>\n",
       "    <tr style=\"text-align: right;\">\n",
       "      <th></th>\n",
       "      <th>track_name</th>\n",
       "      <th>artist</th>\n",
       "      <th>artist_id</th>\n",
       "      <th>album</th>\n",
       "      <th>album_id</th>\n",
       "      <th>album_releasedate</th>\n",
       "      <th>track_popularity</th>\n",
       "      <th>duration</th>\n",
       "      <th>danceability</th>\n",
       "      <th>energy</th>\n",
       "      <th>key</th>\n",
       "      <th>loudness</th>\n",
       "      <th>mode</th>\n",
       "      <th>speechiness</th>\n",
       "      <th>acousticness</th>\n",
       "      <th>instrumentalness</th>\n",
       "      <th>liveness</th>\n",
       "      <th>valence</th>\n",
       "      <th>tempo</th>\n",
       "      <th>artist_genres</th>\n",
       "      <th>artist_popularity</th>\n",
       "      <th>playlist_id</th>\n",
       "      <th>playlist_name</th>\n",
       "      <th>playlist_owner</th>\n",
       "      <th>playlist_owner_id</th>\n",
       "      <th>duration_min</th>\n",
       "      <th>translated_key</th>\n",
       "      <th>year_released</th>\n",
       "      <th>word_match_score</th>\n",
       "      <th>key_compatible</th>\n",
       "      <th>mode_compatible</th>\n",
       "      <th>camelot_mvmt</th>\n",
       "      <th>translated_energy</th>\n",
       "      <th>translated_mood</th>\n",
       "      <th>energy_mvmt</th>\n",
       "      <th>mood_mvmt</th>\n",
       "      <th>desc</th>\n",
       "      <th>nn_score</th>\n",
       "      <th>nn_index_position</th>\n",
       "      <th>intersection</th>\n",
       "      <th>intersection_num</th>\n",
       "      <th>order</th>\n",
       "      <th>cum_duration</th>\n",
       "    </tr>\n",
       "    <tr>\n",
       "      <th>track_id</th>\n",
       "      <th></th>\n",
       "      <th></th>\n",
       "      <th></th>\n",
       "      <th></th>\n",
       "      <th></th>\n",
       "      <th></th>\n",
       "      <th></th>\n",
       "      <th></th>\n",
       "      <th></th>\n",
       "      <th></th>\n",
       "      <th></th>\n",
       "      <th></th>\n",
       "      <th></th>\n",
       "      <th></th>\n",
       "      <th></th>\n",
       "      <th></th>\n",
       "      <th></th>\n",
       "      <th></th>\n",
       "      <th></th>\n",
       "      <th></th>\n",
       "      <th></th>\n",
       "      <th></th>\n",
       "      <th></th>\n",
       "      <th></th>\n",
       "      <th></th>\n",
       "      <th></th>\n",
       "      <th></th>\n",
       "      <th></th>\n",
       "      <th></th>\n",
       "      <th></th>\n",
       "      <th></th>\n",
       "      <th></th>\n",
       "      <th></th>\n",
       "      <th></th>\n",
       "      <th></th>\n",
       "      <th></th>\n",
       "      <th></th>\n",
       "      <th></th>\n",
       "      <th></th>\n",
       "      <th></th>\n",
       "      <th></th>\n",
       "      <th></th>\n",
       "      <th></th>\n",
       "    </tr>\n",
       "  </thead>\n",
       "  <tbody>\n",
       "    <tr>\n",
       "      <th>3AJwUDP919kvQ9QcozQPxg</th>\n",
       "      <td>Yellow</td>\n",
       "      <td>Coldplay</td>\n",
       "      <td>4gzpq5DPGxSnKTe4SA8HAU</td>\n",
       "      <td>Parachutes</td>\n",
       "      <td>6ZG5lRT77aJ3btmArcykra</td>\n",
       "      <td>7/10/2000</td>\n",
       "      <td>89</td>\n",
       "      <td>266773</td>\n",
       "      <td>0.429</td>\n",
       "      <td>0.661</td>\n",
       "      <td>11</td>\n",
       "      <td>-7.227</td>\n",
       "      <td>1</td>\n",
       "      <td>0.0281</td>\n",
       "      <td>0.00239</td>\n",
       "      <td>0.000121</td>\n",
       "      <td>0.2340</td>\n",
       "      <td>0.285</td>\n",
       "      <td>173.372</td>\n",
       "      <td>permanent wave | pop</td>\n",
       "      <td>84</td>\n",
       "      <td>2N9pjdn0Bpl39UzB7WqQHZ</td>\n",
       "      <td>Test Playlist</td>\n",
       "      <td>Quoc-Anh Duong</td>\n",
       "      <td>1214868237</td>\n",
       "      <td>4.45</td>\n",
       "      <td>B</td>\n",
       "      <td>2000</td>\n",
       "      <td>100.0</td>\n",
       "      <td>11.0</td>\n",
       "      <td>1.0</td>\n",
       "      <td>0.0</td>\n",
       "      <td>Perfectly harmonic</td>\n",
       "      <td>Same</td>\n",
       "      <td>0.0</td>\n",
       "      <td>0.0</td>\n",
       "      <td>Same scale</td>\n",
       "      <td>0.000000</td>\n",
       "      <td>0.0</td>\n",
       "      <td>common_text_score|harmonic_keys|nearest_neighbor</td>\n",
       "      <td>3</td>\n",
       "      <td>0.0</td>\n",
       "      <td>4.45</td>\n",
       "    </tr>\n",
       "    <tr>\n",
       "      <th>0VjIjW4GlUZAMYd2vXMi3b</th>\n",
       "      <td>Blinding Lights</td>\n",
       "      <td>The Weeknd</td>\n",
       "      <td>1Xyo4u8uXC1ZmMpatF05PJ</td>\n",
       "      <td>After Hours</td>\n",
       "      <td>4yP0hdKOZPNshxUOjY0cZj</td>\n",
       "      <td>3/20/2020</td>\n",
       "      <td>90</td>\n",
       "      <td>200040</td>\n",
       "      <td>0.513</td>\n",
       "      <td>0.730</td>\n",
       "      <td>1</td>\n",
       "      <td>-5.940</td>\n",
       "      <td>1</td>\n",
       "      <td>0.0598</td>\n",
       "      <td>0.00143</td>\n",
       "      <td>0.000095</td>\n",
       "      <td>0.0897</td>\n",
       "      <td>0.334</td>\n",
       "      <td>171.001</td>\n",
       "      <td>canadian contemporary r&amp;b | canadian pop | pop</td>\n",
       "      <td>91</td>\n",
       "      <td>2N9pjdn0Bpl39UzB7WqQHZ</td>\n",
       "      <td>Test Playlist</td>\n",
       "      <td>Quoc-Anh Duong</td>\n",
       "      <td>1214868237</td>\n",
       "      <td>3.33</td>\n",
       "      <td>C#</td>\n",
       "      <td>2020</td>\n",
       "      <td>1.0</td>\n",
       "      <td>1.0</td>\n",
       "      <td>1.0</td>\n",
       "      <td>2.0</td>\n",
       "      <td>Raise energy</td>\n",
       "      <td>Same</td>\n",
       "      <td>1.0</td>\n",
       "      <td>0.0</td>\n",
       "      <td>Up whole step</td>\n",
       "      <td>1.762600</td>\n",
       "      <td>4.0</td>\n",
       "      <td>common_text_score|harmonic_keys|nearest_neighbor</td>\n",
       "      <td>3</td>\n",
       "      <td>1.0</td>\n",
       "      <td>7.78</td>\n",
       "    </tr>\n",
       "    <tr>\n",
       "      <th>1V6gIisPpYqgFeWbMLI0bA</th>\n",
       "      <td>Heart Attack</td>\n",
       "      <td>Demi Lovato</td>\n",
       "      <td>6S2OmqARrzebs0tKUEyXyp</td>\n",
       "      <td>Demi</td>\n",
       "      <td>6Kssm2LosQ0WyLukFZkEG5</td>\n",
       "      <td>1/1/2013</td>\n",
       "      <td>80</td>\n",
       "      <td>210840</td>\n",
       "      <td>0.504</td>\n",
       "      <td>0.785</td>\n",
       "      <td>8</td>\n",
       "      <td>-4.802</td>\n",
       "      <td>1</td>\n",
       "      <td>0.1040</td>\n",
       "      <td>0.07380</td>\n",
       "      <td>0.000000</td>\n",
       "      <td>0.2390</td>\n",
       "      <td>0.502</td>\n",
       "      <td>173.968</td>\n",
       "      <td>pop | post-teen pop</td>\n",
       "      <td>73</td>\n",
       "      <td>2N9pjdn0Bpl39UzB7WqQHZ</td>\n",
       "      <td>Test Playlist</td>\n",
       "      <td>Quoc-Anh Duong</td>\n",
       "      <td>1214868237</td>\n",
       "      <td>3.51</td>\n",
       "      <td>G#</td>\n",
       "      <td>2013</td>\n",
       "      <td>1.5</td>\n",
       "      <td>8.0</td>\n",
       "      <td>1.0</td>\n",
       "      <td>1.0</td>\n",
       "      <td>Raise energy</td>\n",
       "      <td>Same</td>\n",
       "      <td>1.0</td>\n",
       "      <td>0.0</td>\n",
       "      <td>Up a fifth</td>\n",
       "      <td>0.991875</td>\n",
       "      <td>2.0</td>\n",
       "      <td>common_text_score|harmonic_keys|nearest_neighbor</td>\n",
       "      <td>3</td>\n",
       "      <td>2.0</td>\n",
       "      <td>11.29</td>\n",
       "    </tr>\n",
       "    <tr>\n",
       "      <th>1BxfuPKGuaTgP7aM0Bbdwr</th>\n",
       "      <td>Cruel Summer</td>\n",
       "      <td>Taylor Swift</td>\n",
       "      <td>06HL4z0CvFAxyc27GXpf02</td>\n",
       "      <td>Lover</td>\n",
       "      <td>1NAmidJlEaVgA3MpcPFYGq</td>\n",
       "      <td>8/23/2019</td>\n",
       "      <td>95</td>\n",
       "      <td>178426</td>\n",
       "      <td>0.552</td>\n",
       "      <td>0.702</td>\n",
       "      <td>9</td>\n",
       "      <td>-5.707</td>\n",
       "      <td>1</td>\n",
       "      <td>0.1570</td>\n",
       "      <td>0.11700</td>\n",
       "      <td>0.000021</td>\n",
       "      <td>0.1050</td>\n",
       "      <td>0.564</td>\n",
       "      <td>169.994</td>\n",
       "      <td>pop</td>\n",
       "      <td>100</td>\n",
       "      <td>2N9pjdn0Bpl39UzB7WqQHZ</td>\n",
       "      <td>Test Playlist</td>\n",
       "      <td>Quoc-Anh Duong</td>\n",
       "      <td>1214868237</td>\n",
       "      <td>2.97</td>\n",
       "      <td>A</td>\n",
       "      <td>2019</td>\n",
       "      <td>NaN</td>\n",
       "      <td>9.0</td>\n",
       "      <td>1.0</td>\n",
       "      <td>7.0</td>\n",
       "      <td>Raise energy</td>\n",
       "      <td>Same</td>\n",
       "      <td>1.0</td>\n",
       "      <td>0.0</td>\n",
       "      <td>Up half step</td>\n",
       "      <td>0.775171</td>\n",
       "      <td>1.0</td>\n",
       "      <td>harmonic_keys|nearest_neighbor</td>\n",
       "      <td>2</td>\n",
       "      <td>3.0</td>\n",
       "      <td>14.26</td>\n",
       "    </tr>\n",
       "    <tr>\n",
       "      <th>4Dvkj6JhhA12EX05fT7y2e</th>\n",
       "      <td>As It Was</td>\n",
       "      <td>Harry Styles</td>\n",
       "      <td>6KImCVD70vtIoJWnq6nGn3</td>\n",
       "      <td>Harry's House</td>\n",
       "      <td>5r36AJ6VOJtp00oxSkBZ5h</td>\n",
       "      <td>5/20/2022</td>\n",
       "      <td>91</td>\n",
       "      <td>167303</td>\n",
       "      <td>0.520</td>\n",
       "      <td>0.731</td>\n",
       "      <td>6</td>\n",
       "      <td>-5.338</td>\n",
       "      <td>0</td>\n",
       "      <td>0.0557</td>\n",
       "      <td>0.34200</td>\n",
       "      <td>0.001010</td>\n",
       "      <td>0.3110</td>\n",
       "      <td>0.662</td>\n",
       "      <td>173.930</td>\n",
       "      <td>pop</td>\n",
       "      <td>81</td>\n",
       "      <td>2N9pjdn0Bpl39UzB7WqQHZ</td>\n",
       "      <td>Test Playlist</td>\n",
       "      <td>Quoc-Anh Duong</td>\n",
       "      <td>1214868237</td>\n",
       "      <td>2.79</td>\n",
       "      <td>F#m</td>\n",
       "      <td>2022</td>\n",
       "      <td>1.0</td>\n",
       "      <td>6.0</td>\n",
       "      <td>0.0</td>\n",
       "      <td>0.0</td>\n",
       "      <td>Perfectly harmonic</td>\n",
       "      <td>Darken</td>\n",
       "      <td>0.0</td>\n",
       "      <td>-1.0</td>\n",
       "      <td>Tonal shift</td>\n",
       "      <td>1.015057</td>\n",
       "      <td>1.0</td>\n",
       "      <td>common_text_score|harmonic_keys|nearest_neighbor</td>\n",
       "      <td>3</td>\n",
       "      <td>4.0</td>\n",
       "      <td>17.05</td>\n",
       "    </tr>\n",
       "    <tr>\n",
       "      <th>1zB4vmk8tFRmM9UULNzbLB</th>\n",
       "      <td>Thunder</td>\n",
       "      <td>Imagine Dragons</td>\n",
       "      <td>53XhwfbYqKCa1cC15pYq2q</td>\n",
       "      <td>Evolve</td>\n",
       "      <td>33pt9HBdGlAbRGBHQgsZsU</td>\n",
       "      <td>6/23/2017</td>\n",
       "      <td>86</td>\n",
       "      <td>187146</td>\n",
       "      <td>0.604</td>\n",
       "      <td>0.822</td>\n",
       "      <td>0</td>\n",
       "      <td>-4.833</td>\n",
       "      <td>1</td>\n",
       "      <td>0.0438</td>\n",
       "      <td>0.00672</td>\n",
       "      <td>0.134000</td>\n",
       "      <td>0.1470</td>\n",
       "      <td>0.288</td>\n",
       "      <td>167.997</td>\n",
       "      <td>modern rock | pop | rock</td>\n",
       "      <td>84</td>\n",
       "      <td>2N9pjdn0Bpl39UzB7WqQHZ</td>\n",
       "      <td>Test Playlist</td>\n",
       "      <td>Quoc-Anh Duong</td>\n",
       "      <td>1214868237</td>\n",
       "      <td>3.12</td>\n",
       "      <td>C</td>\n",
       "      <td>2017</td>\n",
       "      <td>1.0</td>\n",
       "      <td>0.0</td>\n",
       "      <td>1.0</td>\n",
       "      <td>3.0</td>\n",
       "      <td>Raise energy</td>\n",
       "      <td>Brighten</td>\n",
       "      <td>1.0</td>\n",
       "      <td>1.0</td>\n",
       "      <td>Minor to Major</td>\n",
       "      <td>2.169166</td>\n",
       "      <td>8.0</td>\n",
       "      <td>common_text_score|harmonic_keys|nearest_neighbor</td>\n",
       "      <td>3</td>\n",
       "      <td>5.0</td>\n",
       "      <td>20.17</td>\n",
       "    </tr>\n",
       "    <tr>\n",
       "      <th>58ge6dfP91o9oXMzq3XkIS</th>\n",
       "      <td>505</td>\n",
       "      <td>Arctic Monkeys</td>\n",
       "      <td>7Ln80lUS6He07XvHI8qqHH</td>\n",
       "      <td>Favourite Worst Nightmare (Standard Version)</td>\n",
       "      <td>6rsQnwaoJHxXJRCDBPkBRw</td>\n",
       "      <td>4/24/2007</td>\n",
       "      <td>80</td>\n",
       "      <td>253586</td>\n",
       "      <td>0.520</td>\n",
       "      <td>0.852</td>\n",
       "      <td>0</td>\n",
       "      <td>-5.866</td>\n",
       "      <td>1</td>\n",
       "      <td>0.0543</td>\n",
       "      <td>0.00237</td>\n",
       "      <td>0.000058</td>\n",
       "      <td>0.0733</td>\n",
       "      <td>0.234</td>\n",
       "      <td>140.267</td>\n",
       "      <td>garage rock | modern rock | permanent wave | r...</td>\n",
       "      <td>82</td>\n",
       "      <td>2N9pjdn0Bpl39UzB7WqQHZ</td>\n",
       "      <td>Test Playlist</td>\n",
       "      <td>Quoc-Anh Duong</td>\n",
       "      <td>1214868237</td>\n",
       "      <td>4.23</td>\n",
       "      <td>C</td>\n",
       "      <td>2007</td>\n",
       "      <td>2.0</td>\n",
       "      <td>0.0</td>\n",
       "      <td>1.0</td>\n",
       "      <td>0.0</td>\n",
       "      <td>Perfectly harmonic</td>\n",
       "      <td>Same</td>\n",
       "      <td>0.0</td>\n",
       "      <td>0.0</td>\n",
       "      <td>Same scale</td>\n",
       "      <td>1.540691</td>\n",
       "      <td>4.0</td>\n",
       "      <td>common_text_score|harmonic_keys|nearest_neighbor</td>\n",
       "      <td>3</td>\n",
       "      <td>6.0</td>\n",
       "      <td>24.40</td>\n",
       "    </tr>\n",
       "    <tr>\n",
       "      <th>4JiEyzf0Md7KEFFGWDDdCr</th>\n",
       "      <td>Knockin' On Heaven's Door</td>\n",
       "      <td>Guns N' Roses</td>\n",
       "      <td>3qm84nBOXUEQ2vnTfUTTFC</td>\n",
       "      <td>Use Your Illusion II</td>\n",
       "      <td>00eiw4KOJZ7eC3NBEpmH4C</td>\n",
       "      <td>9/18/1991</td>\n",
       "      <td>79</td>\n",
       "      <td>336000</td>\n",
       "      <td>0.496</td>\n",
       "      <td>0.739</td>\n",
       "      <td>6</td>\n",
       "      <td>-7.193</td>\n",
       "      <td>1</td>\n",
       "      <td>0.0416</td>\n",
       "      <td>0.02090</td>\n",
       "      <td>0.004510</td>\n",
       "      <td>0.1060</td>\n",
       "      <td>0.377</td>\n",
       "      <td>132.411</td>\n",
       "      <td>glam metal | hard rock | rock</td>\n",
       "      <td>76</td>\n",
       "      <td>2N9pjdn0Bpl39UzB7WqQHZ</td>\n",
       "      <td>Test Playlist</td>\n",
       "      <td>Quoc-Anh Duong</td>\n",
       "      <td>1214868237</td>\n",
       "      <td>5.60</td>\n",
       "      <td>F#</td>\n",
       "      <td>1991</td>\n",
       "      <td>1.5</td>\n",
       "      <td>NaN</td>\n",
       "      <td>NaN</td>\n",
       "      <td>NaN</td>\n",
       "      <td>NaN</td>\n",
       "      <td>NaN</td>\n",
       "      <td>NaN</td>\n",
       "      <td>NaN</td>\n",
       "      <td>NaN</td>\n",
       "      <td>1.567582</td>\n",
       "      <td>9.0</td>\n",
       "      <td>common_text_score|nearest_neighbor</td>\n",
       "      <td>2</td>\n",
       "      <td>7.0</td>\n",
       "      <td>30.00</td>\n",
       "    </tr>\n",
       "  </tbody>\n",
       "</table>\n",
       "</div>"
      ],
      "text/plain": [
       "                                       track_name           artist  \\\n",
       "track_id                                                             \n",
       "3AJwUDP919kvQ9QcozQPxg                     Yellow         Coldplay   \n",
       "0VjIjW4GlUZAMYd2vXMi3b            Blinding Lights       The Weeknd   \n",
       "1V6gIisPpYqgFeWbMLI0bA               Heart Attack      Demi Lovato   \n",
       "1BxfuPKGuaTgP7aM0Bbdwr               Cruel Summer     Taylor Swift   \n",
       "4Dvkj6JhhA12EX05fT7y2e                  As It Was     Harry Styles   \n",
       "1zB4vmk8tFRmM9UULNzbLB                    Thunder  Imagine Dragons   \n",
       "58ge6dfP91o9oXMzq3XkIS                        505   Arctic Monkeys   \n",
       "4JiEyzf0Md7KEFFGWDDdCr  Knockin' On Heaven's Door    Guns N' Roses   \n",
       "\n",
       "                                     artist_id  \\\n",
       "track_id                                         \n",
       "3AJwUDP919kvQ9QcozQPxg  4gzpq5DPGxSnKTe4SA8HAU   \n",
       "0VjIjW4GlUZAMYd2vXMi3b  1Xyo4u8uXC1ZmMpatF05PJ   \n",
       "1V6gIisPpYqgFeWbMLI0bA  6S2OmqARrzebs0tKUEyXyp   \n",
       "1BxfuPKGuaTgP7aM0Bbdwr  06HL4z0CvFAxyc27GXpf02   \n",
       "4Dvkj6JhhA12EX05fT7y2e  6KImCVD70vtIoJWnq6nGn3   \n",
       "1zB4vmk8tFRmM9UULNzbLB  53XhwfbYqKCa1cC15pYq2q   \n",
       "58ge6dfP91o9oXMzq3XkIS  7Ln80lUS6He07XvHI8qqHH   \n",
       "4JiEyzf0Md7KEFFGWDDdCr  3qm84nBOXUEQ2vnTfUTTFC   \n",
       "\n",
       "                                                               album  \\\n",
       "track_id                                                               \n",
       "3AJwUDP919kvQ9QcozQPxg                                    Parachutes   \n",
       "0VjIjW4GlUZAMYd2vXMi3b                                   After Hours   \n",
       "1V6gIisPpYqgFeWbMLI0bA                                          Demi   \n",
       "1BxfuPKGuaTgP7aM0Bbdwr                                         Lover   \n",
       "4Dvkj6JhhA12EX05fT7y2e                                 Harry's House   \n",
       "1zB4vmk8tFRmM9UULNzbLB                                        Evolve   \n",
       "58ge6dfP91o9oXMzq3XkIS  Favourite Worst Nightmare (Standard Version)   \n",
       "4JiEyzf0Md7KEFFGWDDdCr                          Use Your Illusion II   \n",
       "\n",
       "                                      album_id album_releasedate  \\\n",
       "track_id                                                           \n",
       "3AJwUDP919kvQ9QcozQPxg  6ZG5lRT77aJ3btmArcykra         7/10/2000   \n",
       "0VjIjW4GlUZAMYd2vXMi3b  4yP0hdKOZPNshxUOjY0cZj         3/20/2020   \n",
       "1V6gIisPpYqgFeWbMLI0bA  6Kssm2LosQ0WyLukFZkEG5          1/1/2013   \n",
       "1BxfuPKGuaTgP7aM0Bbdwr  1NAmidJlEaVgA3MpcPFYGq         8/23/2019   \n",
       "4Dvkj6JhhA12EX05fT7y2e  5r36AJ6VOJtp00oxSkBZ5h         5/20/2022   \n",
       "1zB4vmk8tFRmM9UULNzbLB  33pt9HBdGlAbRGBHQgsZsU         6/23/2017   \n",
       "58ge6dfP91o9oXMzq3XkIS  6rsQnwaoJHxXJRCDBPkBRw         4/24/2007   \n",
       "4JiEyzf0Md7KEFFGWDDdCr  00eiw4KOJZ7eC3NBEpmH4C         9/18/1991   \n",
       "\n",
       "                        track_popularity  duration  danceability  energy  key  \\\n",
       "track_id                                                                        \n",
       "3AJwUDP919kvQ9QcozQPxg                89    266773         0.429   0.661   11   \n",
       "0VjIjW4GlUZAMYd2vXMi3b                90    200040         0.513   0.730    1   \n",
       "1V6gIisPpYqgFeWbMLI0bA                80    210840         0.504   0.785    8   \n",
       "1BxfuPKGuaTgP7aM0Bbdwr                95    178426         0.552   0.702    9   \n",
       "4Dvkj6JhhA12EX05fT7y2e                91    167303         0.520   0.731    6   \n",
       "1zB4vmk8tFRmM9UULNzbLB                86    187146         0.604   0.822    0   \n",
       "58ge6dfP91o9oXMzq3XkIS                80    253586         0.520   0.852    0   \n",
       "4JiEyzf0Md7KEFFGWDDdCr                79    336000         0.496   0.739    6   \n",
       "\n",
       "                        loudness  mode  speechiness  acousticness  \\\n",
       "track_id                                                            \n",
       "3AJwUDP919kvQ9QcozQPxg    -7.227     1       0.0281       0.00239   \n",
       "0VjIjW4GlUZAMYd2vXMi3b    -5.940     1       0.0598       0.00143   \n",
       "1V6gIisPpYqgFeWbMLI0bA    -4.802     1       0.1040       0.07380   \n",
       "1BxfuPKGuaTgP7aM0Bbdwr    -5.707     1       0.1570       0.11700   \n",
       "4Dvkj6JhhA12EX05fT7y2e    -5.338     0       0.0557       0.34200   \n",
       "1zB4vmk8tFRmM9UULNzbLB    -4.833     1       0.0438       0.00672   \n",
       "58ge6dfP91o9oXMzq3XkIS    -5.866     1       0.0543       0.00237   \n",
       "4JiEyzf0Md7KEFFGWDDdCr    -7.193     1       0.0416       0.02090   \n",
       "\n",
       "                        instrumentalness  liveness  valence    tempo  \\\n",
       "track_id                                                               \n",
       "3AJwUDP919kvQ9QcozQPxg          0.000121    0.2340    0.285  173.372   \n",
       "0VjIjW4GlUZAMYd2vXMi3b          0.000095    0.0897    0.334  171.001   \n",
       "1V6gIisPpYqgFeWbMLI0bA          0.000000    0.2390    0.502  173.968   \n",
       "1BxfuPKGuaTgP7aM0Bbdwr          0.000021    0.1050    0.564  169.994   \n",
       "4Dvkj6JhhA12EX05fT7y2e          0.001010    0.3110    0.662  173.930   \n",
       "1zB4vmk8tFRmM9UULNzbLB          0.134000    0.1470    0.288  167.997   \n",
       "58ge6dfP91o9oXMzq3XkIS          0.000058    0.0733    0.234  140.267   \n",
       "4JiEyzf0Md7KEFFGWDDdCr          0.004510    0.1060    0.377  132.411   \n",
       "\n",
       "                                                            artist_genres  \\\n",
       "track_id                                                                    \n",
       "3AJwUDP919kvQ9QcozQPxg                               permanent wave | pop   \n",
       "0VjIjW4GlUZAMYd2vXMi3b     canadian contemporary r&b | canadian pop | pop   \n",
       "1V6gIisPpYqgFeWbMLI0bA                                pop | post-teen pop   \n",
       "1BxfuPKGuaTgP7aM0Bbdwr                                                pop   \n",
       "4Dvkj6JhhA12EX05fT7y2e                                                pop   \n",
       "1zB4vmk8tFRmM9UULNzbLB                           modern rock | pop | rock   \n",
       "58ge6dfP91o9oXMzq3XkIS  garage rock | modern rock | permanent wave | r...   \n",
       "4JiEyzf0Md7KEFFGWDDdCr                      glam metal | hard rock | rock   \n",
       "\n",
       "                        artist_popularity             playlist_id  \\\n",
       "track_id                                                            \n",
       "3AJwUDP919kvQ9QcozQPxg                 84  2N9pjdn0Bpl39UzB7WqQHZ   \n",
       "0VjIjW4GlUZAMYd2vXMi3b                 91  2N9pjdn0Bpl39UzB7WqQHZ   \n",
       "1V6gIisPpYqgFeWbMLI0bA                 73  2N9pjdn0Bpl39UzB7WqQHZ   \n",
       "1BxfuPKGuaTgP7aM0Bbdwr                100  2N9pjdn0Bpl39UzB7WqQHZ   \n",
       "4Dvkj6JhhA12EX05fT7y2e                 81  2N9pjdn0Bpl39UzB7WqQHZ   \n",
       "1zB4vmk8tFRmM9UULNzbLB                 84  2N9pjdn0Bpl39UzB7WqQHZ   \n",
       "58ge6dfP91o9oXMzq3XkIS                 82  2N9pjdn0Bpl39UzB7WqQHZ   \n",
       "4JiEyzf0Md7KEFFGWDDdCr                 76  2N9pjdn0Bpl39UzB7WqQHZ   \n",
       "\n",
       "                        playlist_name  playlist_owner  playlist_owner_id  \\\n",
       "track_id                                                                   \n",
       "3AJwUDP919kvQ9QcozQPxg  Test Playlist  Quoc-Anh Duong         1214868237   \n",
       "0VjIjW4GlUZAMYd2vXMi3b  Test Playlist  Quoc-Anh Duong         1214868237   \n",
       "1V6gIisPpYqgFeWbMLI0bA  Test Playlist  Quoc-Anh Duong         1214868237   \n",
       "1BxfuPKGuaTgP7aM0Bbdwr  Test Playlist  Quoc-Anh Duong         1214868237   \n",
       "4Dvkj6JhhA12EX05fT7y2e  Test Playlist  Quoc-Anh Duong         1214868237   \n",
       "1zB4vmk8tFRmM9UULNzbLB  Test Playlist  Quoc-Anh Duong         1214868237   \n",
       "58ge6dfP91o9oXMzq3XkIS  Test Playlist  Quoc-Anh Duong         1214868237   \n",
       "4JiEyzf0Md7KEFFGWDDdCr  Test Playlist  Quoc-Anh Duong         1214868237   \n",
       "\n",
       "                        duration_min translated_key  year_released  \\\n",
       "track_id                                                             \n",
       "3AJwUDP919kvQ9QcozQPxg          4.45              B           2000   \n",
       "0VjIjW4GlUZAMYd2vXMi3b          3.33             C#           2020   \n",
       "1V6gIisPpYqgFeWbMLI0bA          3.51             G#           2013   \n",
       "1BxfuPKGuaTgP7aM0Bbdwr          2.97              A           2019   \n",
       "4Dvkj6JhhA12EX05fT7y2e          2.79            F#m           2022   \n",
       "1zB4vmk8tFRmM9UULNzbLB          3.12              C           2017   \n",
       "58ge6dfP91o9oXMzq3XkIS          4.23              C           2007   \n",
       "4JiEyzf0Md7KEFFGWDDdCr          5.60             F#           1991   \n",
       "\n",
       "                        word_match_score  key_compatible  mode_compatible  \\\n",
       "track_id                                                                    \n",
       "3AJwUDP919kvQ9QcozQPxg             100.0            11.0              1.0   \n",
       "0VjIjW4GlUZAMYd2vXMi3b               1.0             1.0              1.0   \n",
       "1V6gIisPpYqgFeWbMLI0bA               1.5             8.0              1.0   \n",
       "1BxfuPKGuaTgP7aM0Bbdwr               NaN             9.0              1.0   \n",
       "4Dvkj6JhhA12EX05fT7y2e               1.0             6.0              0.0   \n",
       "1zB4vmk8tFRmM9UULNzbLB               1.0             0.0              1.0   \n",
       "58ge6dfP91o9oXMzq3XkIS               2.0             0.0              1.0   \n",
       "4JiEyzf0Md7KEFFGWDDdCr               1.5             NaN              NaN   \n",
       "\n",
       "                        camelot_mvmt   translated_energy translated_mood  \\\n",
       "track_id                                                                   \n",
       "3AJwUDP919kvQ9QcozQPxg           0.0  Perfectly harmonic            Same   \n",
       "0VjIjW4GlUZAMYd2vXMi3b           2.0        Raise energy            Same   \n",
       "1V6gIisPpYqgFeWbMLI0bA           1.0        Raise energy            Same   \n",
       "1BxfuPKGuaTgP7aM0Bbdwr           7.0        Raise energy            Same   \n",
       "4Dvkj6JhhA12EX05fT7y2e           0.0  Perfectly harmonic          Darken   \n",
       "1zB4vmk8tFRmM9UULNzbLB           3.0        Raise energy        Brighten   \n",
       "58ge6dfP91o9oXMzq3XkIS           0.0  Perfectly harmonic            Same   \n",
       "4JiEyzf0Md7KEFFGWDDdCr           NaN                 NaN             NaN   \n",
       "\n",
       "                        energy_mvmt  mood_mvmt            desc  nn_score  \\\n",
       "track_id                                                                   \n",
       "3AJwUDP919kvQ9QcozQPxg          0.0        0.0      Same scale  0.000000   \n",
       "0VjIjW4GlUZAMYd2vXMi3b          1.0        0.0   Up whole step  1.762600   \n",
       "1V6gIisPpYqgFeWbMLI0bA          1.0        0.0      Up a fifth  0.991875   \n",
       "1BxfuPKGuaTgP7aM0Bbdwr          1.0        0.0    Up half step  0.775171   \n",
       "4Dvkj6JhhA12EX05fT7y2e          0.0       -1.0     Tonal shift  1.015057   \n",
       "1zB4vmk8tFRmM9UULNzbLB          1.0        1.0  Minor to Major  2.169166   \n",
       "58ge6dfP91o9oXMzq3XkIS          0.0        0.0      Same scale  1.540691   \n",
       "4JiEyzf0Md7KEFFGWDDdCr          NaN        NaN             NaN  1.567582   \n",
       "\n",
       "                        nn_index_position  \\\n",
       "track_id                                    \n",
       "3AJwUDP919kvQ9QcozQPxg                0.0   \n",
       "0VjIjW4GlUZAMYd2vXMi3b                4.0   \n",
       "1V6gIisPpYqgFeWbMLI0bA                2.0   \n",
       "1BxfuPKGuaTgP7aM0Bbdwr                1.0   \n",
       "4Dvkj6JhhA12EX05fT7y2e                1.0   \n",
       "1zB4vmk8tFRmM9UULNzbLB                8.0   \n",
       "58ge6dfP91o9oXMzq3XkIS                4.0   \n",
       "4JiEyzf0Md7KEFFGWDDdCr                9.0   \n",
       "\n",
       "                                                            intersection  \\\n",
       "track_id                                                                   \n",
       "3AJwUDP919kvQ9QcozQPxg  common_text_score|harmonic_keys|nearest_neighbor   \n",
       "0VjIjW4GlUZAMYd2vXMi3b  common_text_score|harmonic_keys|nearest_neighbor   \n",
       "1V6gIisPpYqgFeWbMLI0bA  common_text_score|harmonic_keys|nearest_neighbor   \n",
       "1BxfuPKGuaTgP7aM0Bbdwr                    harmonic_keys|nearest_neighbor   \n",
       "4Dvkj6JhhA12EX05fT7y2e  common_text_score|harmonic_keys|nearest_neighbor   \n",
       "1zB4vmk8tFRmM9UULNzbLB  common_text_score|harmonic_keys|nearest_neighbor   \n",
       "58ge6dfP91o9oXMzq3XkIS  common_text_score|harmonic_keys|nearest_neighbor   \n",
       "4JiEyzf0Md7KEFFGWDDdCr                common_text_score|nearest_neighbor   \n",
       "\n",
       "                        intersection_num  order  cum_duration  \n",
       "track_id                                                       \n",
       "3AJwUDP919kvQ9QcozQPxg                 3    0.0          4.45  \n",
       "0VjIjW4GlUZAMYd2vXMi3b                 3    1.0          7.78  \n",
       "1V6gIisPpYqgFeWbMLI0bA                 3    2.0         11.29  \n",
       "1BxfuPKGuaTgP7aM0Bbdwr                 2    3.0         14.26  \n",
       "4Dvkj6JhhA12EX05fT7y2e                 3    4.0         17.05  \n",
       "1zB4vmk8tFRmM9UULNzbLB                 3    5.0         20.17  \n",
       "58ge6dfP91o9oXMzq3XkIS                 3    6.0         24.40  \n",
       "4JiEyzf0Md7KEFFGWDDdCr                 2    7.0         30.00  "
      ]
     },
     "metadata": {},
     "output_type": "display_data"
    }
   ],
   "source": [
    "search_keyword = \"yellow\"\n",
    "found_df = ult.get_data_from_search(search_keyword, \"track_name\", df)\n",
    "found_index = found_df.index[0]\n",
    "\n",
    "my_playlist = sort_playlist(df, found_index, print_msg=True)\n",
    "display(my_playlist)"
   ]
  },
  {
   "cell_type": "markdown",
   "metadata": {},
   "source": [
    "Plot Playlist"
   ]
  },
  {
   "cell_type": "code",
   "execution_count": 15,
   "metadata": {},
   "outputs": [
    {
     "data": {
      "text/plain": [
       "<module 'matplotlib.pyplot' from 'c:\\\\Users\\\\anhqu\\\\Anaconda3\\\\Lib\\\\site-packages\\\\matplotlib\\\\pyplot.py'>"
      ]
     },
     "execution_count": 15,
     "metadata": {},
     "output_type": "execute_result"
    },
    {
     "data": {
      "image/png": "[encoded data removed]",
      "text/plain": [
       "<Figure size 1500x1500 with 16 Axes>"
      ]
     },
     "metadata": {},
     "output_type": "display_data"
    }
   ],
   "source": [
    "myplts.playlist_summary(my_playlist)"
   ]
  },
  {
   "cell_type": "code",
   "execution_count": 16,
   "metadata": {},
   "outputs": [
    {
     "data": {
      "text/plain": [
       "<module 'matplotlib.pyplot' from 'c:\\\\Users\\\\anhqu\\\\Anaconda3\\\\Lib\\\\site-packages\\\\matplotlib\\\\pyplot.py'>"
      ]
     },
     "execution_count": 16,
     "metadata": {},
     "output_type": "execute_result"
    },
    {
     "data": {
      "image/png": "[encoded data removed]",
      "text/plain": [
       "<Figure size 800x800 with 1 Axes>"
      ]
     },
     "metadata": {},
     "output_type": "display_data"
    }
   ],
   "source": [
    "myplts.wordcloud_plot(my_playlist['artist_genres'])"
   ]
  },
  {
   "cell_type": "code",
   "execution_count": 17,
   "metadata": {},
   "outputs": [
    {
     "data": {
      "application/vnd.plotly.v1+json": {
       "config": {
        "plotlyServerURL": "https://plot.ly"
       },
       "data": [
        {
         "hoverinfo": "text",
         "hovertext": [
          "Track: Yellow<br>Artist: Coldplay<br>Artist Genres: permanent wave | pop<br>Key: B<br>Energy: Perfectly harmonic<br>Mood: Same",
          "Track: Blinding Lights<br>Artist: The Weeknd<br>Artist Genres: canadian contemporary r&b | canadian pop | pop<br>Key: C#<br>Energy: Raise energy<br>Mood: Same",
          "Track: Heart Attack<br>Artist: Demi Lovato<br>Artist Genres: pop | post-teen pop<br>Key: G#<br>Energy: Raise energy<br>Mood: Same",
          "Track: Cruel Summer<br>Artist: Taylor Swift<br>Artist Genres: pop<br>Key: A<br>Energy: Raise energy<br>Mood: Same",
          "Track: As It Was<br>Artist: Harry Styles<br>Artist Genres: pop<br>Key: F#m<br>Energy: Perfectly harmonic<br>Mood: Darken",
          "Track: Thunder<br>Artist: Imagine Dragons<br>Artist Genres: modern rock | pop | rock<br>Key: C<br>Energy: Raise energy<br>Mood: Brighten",
          "Track: 505<br>Artist: Arctic Monkeys<br>Artist Genres: garage rock | modern rock | permanent wave | rock | sheffield indie<br>Key: C<br>Energy: Perfectly harmonic<br>Mood: Same",
          "Track: Knockin' On Heaven's Door<br>Artist: Guns N' Roses<br>Artist Genres: glam metal | hard rock | rock<br>Key: F#<br>Energy: nan<br>Mood: nan"
         ],
         "marker": {
          "color": [
           "#046a38",
           "#addc91",
           "#addc91",
           "#addc91",
           "#71b2c9",
           "#c8102e",
           "#addc91",
           "#5f259f"
          ]
         },
         "showlegend": false,
         "type": "bar",
         "width": 1,
         "x": [
          4.45,
          7.78,
          11.29,
          14.26,
          17.05,
          20.17,
          24.400000000000002,
          30
         ],
         "xaxis": "x",
         "y": [
          0.00239,
          0.00143,
          0.0738,
          0.117,
          0.342,
          0.00672,
          0.00237,
          0.0209
         ],
         "yaxis": "y"
        },
        {
         "hovertext": [
          "Track: Yellow<br>Artist: Coldplay<br>Artist Genres: permanent wave | pop<br>Key: B<br>Energy: Perfectly harmonic<br>Mood: Same",
          "Track: Blinding Lights<br>Artist: The Weeknd<br>Artist Genres: canadian contemporary r&b | canadian pop | pop<br>Key: C#<br>Energy: Raise energy<br>Mood: Same",
          "Track: Heart Attack<br>Artist: Demi Lovato<br>Artist Genres: pop | post-teen pop<br>Key: G#<br>Energy: Raise energy<br>Mood: Same",
          "Track: Cruel Summer<br>Artist: Taylor Swift<br>Artist Genres: pop<br>Key: A<br>Energy: Raise energy<br>Mood: Same",
          "Track: As It Was<br>Artist: Harry Styles<br>Artist Genres: pop<br>Key: F#m<br>Energy: Perfectly harmonic<br>Mood: Darken",
          "Track: Thunder<br>Artist: Imagine Dragons<br>Artist Genres: modern rock | pop | rock<br>Key: C<br>Energy: Raise energy<br>Mood: Brighten",
          "Track: 505<br>Artist: Arctic Monkeys<br>Artist Genres: garage rock | modern rock | permanent wave | rock | sheffield indie<br>Key: C<br>Energy: Perfectly harmonic<br>Mood: Same",
          "Track: Knockin' On Heaven's Door<br>Artist: Guns N' Roses<br>Artist Genres: glam metal | hard rock | rock<br>Key: F#<br>Energy: nan<br>Mood: nan"
         ],
         "line": {
          "color": "#d57800"
         },
         "mode": "lines+markers",
         "showlegend": false,
         "type": "scatter",
         "x": [
          4.45,
          7.78,
          11.29,
          14.26,
          17.05,
          20.17,
          24.400000000000002,
          30
         ],
         "xaxis": "x6",
         "y": [
          0,
          1,
          1.5,
          0,
          1,
          1,
          2,
          1.5
         ],
         "yaxis": "y11"
        },
        {
         "hovertext": [
          "Track: Yellow<br>Artist: Coldplay<br>Artist Genres: permanent wave | pop<br>Key: B<br>Energy: Perfectly harmonic<br>Mood: Same",
          "Track: Blinding Lights<br>Artist: The Weeknd<br>Artist Genres: canadian contemporary r&b | canadian pop | pop<br>Key: C#<br>Energy: Raise energy<br>Mood: Same",
          "Track: Heart Attack<br>Artist: Demi Lovato<br>Artist Genres: pop | post-teen pop<br>Key: G#<br>Energy: Raise energy<br>Mood: Same",
          "Track: Cruel Summer<br>Artist: Taylor Swift<br>Artist Genres: pop<br>Key: A<br>Energy: Raise energy<br>Mood: Same",
          "Track: As It Was<br>Artist: Harry Styles<br>Artist Genres: pop<br>Key: F#m<br>Energy: Perfectly harmonic<br>Mood: Darken",
          "Track: Thunder<br>Artist: Imagine Dragons<br>Artist Genres: modern rock | pop | rock<br>Key: C<br>Energy: Raise energy<br>Mood: Brighten",
          "Track: 505<br>Artist: Arctic Monkeys<br>Artist Genres: garage rock | modern rock | permanent wave | rock | sheffield indie<br>Key: C<br>Energy: Perfectly harmonic<br>Mood: Same",
          "Track: Knockin' On Heaven's Door<br>Artist: Guns N' Roses<br>Artist Genres: glam metal | hard rock | rock<br>Key: F#<br>Energy: nan<br>Mood: nan"
         ],
         "line": {
          "color": "#154734"
         },
         "mode": "lines+markers",
         "showlegend": false,
         "type": "scatter",
         "x": [
          4.45,
          7.78,
          11.29,
          14.26,
          17.05,
          20.17,
          24.400000000000002,
          30
         ],
         "xaxis": "x6",
         "y": [
          0,
          -4,
          -2,
          -1,
          -1,
          -8,
          -4,
          -9
         ],
         "yaxis": "y12"
        },
        {
         "hoverinfo": "text",
         "hovertext": [
          "Track: Yellow<br>Artist: Coldplay<br>Artist Genres: permanent wave | pop<br>Key: B<br>Energy: Perfectly harmonic<br>Mood: Same",
          "Track: Blinding Lights<br>Artist: The Weeknd<br>Artist Genres: canadian contemporary r&b | canadian pop | pop<br>Key: C#<br>Energy: Raise energy<br>Mood: Same",
          "Track: Heart Attack<br>Artist: Demi Lovato<br>Artist Genres: pop | post-teen pop<br>Key: G#<br>Energy: Raise energy<br>Mood: Same",
          "Track: Cruel Summer<br>Artist: Taylor Swift<br>Artist Genres: pop<br>Key: A<br>Energy: Raise energy<br>Mood: Same",
          "Track: As It Was<br>Artist: Harry Styles<br>Artist Genres: pop<br>Key: F#m<br>Energy: Perfectly harmonic<br>Mood: Darken",
          "Track: Thunder<br>Artist: Imagine Dragons<br>Artist Genres: modern rock | pop | rock<br>Key: C<br>Energy: Raise energy<br>Mood: Brighten",
          "Track: 505<br>Artist: Arctic Monkeys<br>Artist Genres: garage rock | modern rock | permanent wave | rock | sheffield indie<br>Key: C<br>Energy: Perfectly harmonic<br>Mood: Same",
          "Track: Knockin' On Heaven's Door<br>Artist: Guns N' Roses<br>Artist Genres: glam metal | hard rock | rock<br>Key: F#<br>Energy: nan<br>Mood: nan"
         ],
         "marker": {
          "color": [
           "#046a38",
           "#addc91",
           "#addc91",
           "#addc91",
           "#71b2c9",
           "#c8102e",
           "#addc91",
           "#5f259f"
          ]
         },
         "showlegend": false,
         "type": "bar",
         "width": 1,
         "x": [
          4.45,
          7.78,
          11.29,
          14.26,
          17.05,
          20.17,
          24.400000000000002,
          30
         ],
         "xaxis": "x2",
         "y": [
          0.429,
          0.513,
          0.504,
          0.552,
          0.52,
          0.604,
          0.52,
          0.496
         ],
         "yaxis": "y3"
        },
        {
         "hovertext": [
          "Track: Yellow<br>Artist: Coldplay<br>Artist Genres: permanent wave | pop<br>Key: B<br>Energy: Perfectly harmonic<br>Mood: Same",
          "Track: Blinding Lights<br>Artist: The Weeknd<br>Artist Genres: canadian contemporary r&b | canadian pop | pop<br>Key: C#<br>Energy: Raise energy<br>Mood: Same",
          "Track: Heart Attack<br>Artist: Demi Lovato<br>Artist Genres: pop | post-teen pop<br>Key: G#<br>Energy: Raise energy<br>Mood: Same",
          "Track: Cruel Summer<br>Artist: Taylor Swift<br>Artist Genres: pop<br>Key: A<br>Energy: Raise energy<br>Mood: Same",
          "Track: As It Was<br>Artist: Harry Styles<br>Artist Genres: pop<br>Key: F#m<br>Energy: Perfectly harmonic<br>Mood: Darken",
          "Track: Thunder<br>Artist: Imagine Dragons<br>Artist Genres: modern rock | pop | rock<br>Key: C<br>Energy: Raise energy<br>Mood: Brighten",
          "Track: 505<br>Artist: Arctic Monkeys<br>Artist Genres: garage rock | modern rock | permanent wave | rock | sheffield indie<br>Key: C<br>Energy: Perfectly harmonic<br>Mood: Same",
          "Track: Knockin' On Heaven's Door<br>Artist: Guns N' Roses<br>Artist Genres: glam metal | hard rock | rock<br>Key: F#<br>Energy: nan<br>Mood: nan"
         ],
         "line": {
          "color": "#d57800"
         },
         "mode": "lines+markers",
         "showlegend": false,
         "type": "scatter",
         "x": [
          4.45,
          7.78,
          11.29,
          14.26,
          17.05,
          20.17,
          24.400000000000002,
          30
         ],
         "xaxis": "x6",
         "y": [
          0,
          1,
          1.5,
          0,
          1,
          1,
          2,
          1.5
         ],
         "yaxis": "y11"
        },
        {
         "hovertext": [
          "Track: Yellow<br>Artist: Coldplay<br>Artist Genres: permanent wave | pop<br>Key: B<br>Energy: Perfectly harmonic<br>Mood: Same",
          "Track: Blinding Lights<br>Artist: The Weeknd<br>Artist Genres: canadian contemporary r&b | canadian pop | pop<br>Key: C#<br>Energy: Raise energy<br>Mood: Same",
          "Track: Heart Attack<br>Artist: Demi Lovato<br>Artist Genres: pop | post-teen pop<br>Key: G#<br>Energy: Raise energy<br>Mood: Same",
          "Track: Cruel Summer<br>Artist: Taylor Swift<br>Artist Genres: pop<br>Key: A<br>Energy: Raise energy<br>Mood: Same",
          "Track: As It Was<br>Artist: Harry Styles<br>Artist Genres: pop<br>Key: F#m<br>Energy: Perfectly harmonic<br>Mood: Darken",
          "Track: Thunder<br>Artist: Imagine Dragons<br>Artist Genres: modern rock | pop | rock<br>Key: C<br>Energy: Raise energy<br>Mood: Brighten",
          "Track: 505<br>Artist: Arctic Monkeys<br>Artist Genres: garage rock | modern rock | permanent wave | rock | sheffield indie<br>Key: C<br>Energy: Perfectly harmonic<br>Mood: Same",
          "Track: Knockin' On Heaven's Door<br>Artist: Guns N' Roses<br>Artist Genres: glam metal | hard rock | rock<br>Key: F#<br>Energy: nan<br>Mood: nan"
         ],
         "line": {
          "color": "#154734"
         },
         "mode": "lines+markers",
         "showlegend": false,
         "type": "scatter",
         "x": [
          4.45,
          7.78,
          11.29,
          14.26,
          17.05,
          20.17,
          24.400000000000002,
          30
         ],
         "xaxis": "x6",
         "y": [
          0,
          -4,
          -2,
          -1,
          -1,
          -8,
          -4,
          -9
         ],
         "yaxis": "y12"
        },
        {
         "hoverinfo": "text",
         "hovertext": [
          "Track: Yellow<br>Artist: Coldplay<br>Artist Genres: permanent wave | pop<br>Key: B<br>Energy: Perfectly harmonic<br>Mood: Same",
          "Track: Blinding Lights<br>Artist: The Weeknd<br>Artist Genres: canadian contemporary r&b | canadian pop | pop<br>Key: C#<br>Energy: Raise energy<br>Mood: Same",
          "Track: Heart Attack<br>Artist: Demi Lovato<br>Artist Genres: pop | post-teen pop<br>Key: G#<br>Energy: Raise energy<br>Mood: Same",
          "Track: Cruel Summer<br>Artist: Taylor Swift<br>Artist Genres: pop<br>Key: A<br>Energy: Raise energy<br>Mood: Same",
          "Track: As It Was<br>Artist: Harry Styles<br>Artist Genres: pop<br>Key: F#m<br>Energy: Perfectly harmonic<br>Mood: Darken",
          "Track: Thunder<br>Artist: Imagine Dragons<br>Artist Genres: modern rock | pop | rock<br>Key: C<br>Energy: Raise energy<br>Mood: Brighten",
          "Track: 505<br>Artist: Arctic Monkeys<br>Artist Genres: garage rock | modern rock | permanent wave | rock | sheffield indie<br>Key: C<br>Energy: Perfectly harmonic<br>Mood: Same",
          "Track: Knockin' On Heaven's Door<br>Artist: Guns N' Roses<br>Artist Genres: glam metal | hard rock | rock<br>Key: F#<br>Energy: nan<br>Mood: nan"
         ],
         "marker": {
          "color": [
           "#046a38",
           "#addc91",
           "#addc91",
           "#addc91",
           "#71b2c9",
           "#c8102e",
           "#addc91",
           "#5f259f"
          ]
         },
         "showlegend": false,
         "type": "bar",
         "width": 1,
         "x": [
          4.45,
          7.78,
          11.29,
          14.26,
          17.05,
          20.17,
          24.400000000000002,
          30
         ],
         "xaxis": "x3",
         "y": [
          0.661,
          0.73,
          0.785,
          0.702,
          0.731,
          0.822,
          0.852,
          0.739
         ],
         "yaxis": "y5"
        },
        {
         "hovertext": [
          "Track: Yellow<br>Artist: Coldplay<br>Artist Genres: permanent wave | pop<br>Key: B<br>Energy: Perfectly harmonic<br>Mood: Same",
          "Track: Blinding Lights<br>Artist: The Weeknd<br>Artist Genres: canadian contemporary r&b | canadian pop | pop<br>Key: C#<br>Energy: Raise energy<br>Mood: Same",
          "Track: Heart Attack<br>Artist: Demi Lovato<br>Artist Genres: pop | post-teen pop<br>Key: G#<br>Energy: Raise energy<br>Mood: Same",
          "Track: Cruel Summer<br>Artist: Taylor Swift<br>Artist Genres: pop<br>Key: A<br>Energy: Raise energy<br>Mood: Same",
          "Track: As It Was<br>Artist: Harry Styles<br>Artist Genres: pop<br>Key: F#m<br>Energy: Perfectly harmonic<br>Mood: Darken",
          "Track: Thunder<br>Artist: Imagine Dragons<br>Artist Genres: modern rock | pop | rock<br>Key: C<br>Energy: Raise energy<br>Mood: Brighten",
          "Track: 505<br>Artist: Arctic Monkeys<br>Artist Genres: garage rock | modern rock | permanent wave | rock | sheffield indie<br>Key: C<br>Energy: Perfectly harmonic<br>Mood: Same",
          "Track: Knockin' On Heaven's Door<br>Artist: Guns N' Roses<br>Artist Genres: glam metal | hard rock | rock<br>Key: F#<br>Energy: nan<br>Mood: nan"
         ],
         "line": {
          "color": "#d57800"
         },
         "mode": "lines+markers",
         "showlegend": false,
         "type": "scatter",
         "x": [
          4.45,
          7.78,
          11.29,
          14.26,
          17.05,
          20.17,
          24.400000000000002,
          30
         ],
         "xaxis": "x6",
         "y": [
          0,
          1,
          1.5,
          0,
          1,
          1,
          2,
          1.5
         ],
         "yaxis": "y11"
        },
        {
         "hovertext": [
          "Track: Yellow<br>Artist: Coldplay<br>Artist Genres: permanent wave | pop<br>Key: B<br>Energy: Perfectly harmonic<br>Mood: Same",
          "Track: Blinding Lights<br>Artist: The Weeknd<br>Artist Genres: canadian contemporary r&b | canadian pop | pop<br>Key: C#<br>Energy: Raise energy<br>Mood: Same",
          "Track: Heart Attack<br>Artist: Demi Lovato<br>Artist Genres: pop | post-teen pop<br>Key: G#<br>Energy: Raise energy<br>Mood: Same",
          "Track: Cruel Summer<br>Artist: Taylor Swift<br>Artist Genres: pop<br>Key: A<br>Energy: Raise energy<br>Mood: Same",
          "Track: As It Was<br>Artist: Harry Styles<br>Artist Genres: pop<br>Key: F#m<br>Energy: Perfectly harmonic<br>Mood: Darken",
          "Track: Thunder<br>Artist: Imagine Dragons<br>Artist Genres: modern rock | pop | rock<br>Key: C<br>Energy: Raise energy<br>Mood: Brighten",
          "Track: 505<br>Artist: Arctic Monkeys<br>Artist Genres: garage rock | modern rock | permanent wave | rock | sheffield indie<br>Key: C<br>Energy: Perfectly harmonic<br>Mood: Same",
          "Track: Knockin' On Heaven's Door<br>Artist: Guns N' Roses<br>Artist Genres: glam metal | hard rock | rock<br>Key: F#<br>Energy: nan<br>Mood: nan"
         ],
         "line": {
          "color": "#154734"
         },
         "mode": "lines+markers",
         "showlegend": false,
         "type": "scatter",
         "x": [
          4.45,
          7.78,
          11.29,
          14.26,
          17.05,
          20.17,
          24.400000000000002,
          30
         ],
         "xaxis": "x6",
         "y": [
          0,
          -4,
          -2,
          -1,
          -1,
          -8,
          -4,
          -9
         ],
         "yaxis": "y12"
        },
        {
         "hoverinfo": "text",
         "hovertext": [
          "Track: Yellow<br>Artist: Coldplay<br>Artist Genres: permanent wave | pop<br>Key: B<br>Energy: Perfectly harmonic<br>Mood: Same",
          "Track: Blinding Lights<br>Artist: The Weeknd<br>Artist Genres: canadian contemporary r&b | canadian pop | pop<br>Key: C#<br>Energy: Raise energy<br>Mood: Same",
          "Track: Heart Attack<br>Artist: Demi Lovato<br>Artist Genres: pop | post-teen pop<br>Key: G#<br>Energy: Raise energy<br>Mood: Same",
          "Track: Cruel Summer<br>Artist: Taylor Swift<br>Artist Genres: pop<br>Key: A<br>Energy: Raise energy<br>Mood: Same",
          "Track: As It Was<br>Artist: Harry Styles<br>Artist Genres: pop<br>Key: F#m<br>Energy: Perfectly harmonic<br>Mood: Darken",
          "Track: Thunder<br>Artist: Imagine Dragons<br>Artist Genres: modern rock | pop | rock<br>Key: C<br>Energy: Raise energy<br>Mood: Brighten",
          "Track: 505<br>Artist: Arctic Monkeys<br>Artist Genres: garage rock | modern rock | permanent wave | rock | sheffield indie<br>Key: C<br>Energy: Perfectly harmonic<br>Mood: Same",
          "Track: Knockin' On Heaven's Door<br>Artist: Guns N' Roses<br>Artist Genres: glam metal | hard rock | rock<br>Key: F#<br>Energy: nan<br>Mood: nan"
         ],
         "marker": {
          "color": [
           "#046a38",
           "#addc91",
           "#addc91",
           "#addc91",
           "#71b2c9",
           "#c8102e",
           "#addc91",
           "#5f259f"
          ]
         },
         "showlegend": false,
         "type": "bar",
         "width": 1,
         "x": [
          4.45,
          7.78,
          11.29,
          14.26,
          17.05,
          20.17,
          24.400000000000002,
          30
         ],
         "xaxis": "x4",
         "y": [
          173.372,
          171.001,
          173.968,
          169.994,
          173.93,
          167.997,
          140.267,
          132.411
         ],
         "yaxis": "y7"
        },
        {
         "hovertext": [
          "Track: Yellow<br>Artist: Coldplay<br>Artist Genres: permanent wave | pop<br>Key: B<br>Energy: Perfectly harmonic<br>Mood: Same",
          "Track: Blinding Lights<br>Artist: The Weeknd<br>Artist Genres: canadian contemporary r&b | canadian pop | pop<br>Key: C#<br>Energy: Raise energy<br>Mood: Same",
          "Track: Heart Attack<br>Artist: Demi Lovato<br>Artist Genres: pop | post-teen pop<br>Key: G#<br>Energy: Raise energy<br>Mood: Same",
          "Track: Cruel Summer<br>Artist: Taylor Swift<br>Artist Genres: pop<br>Key: A<br>Energy: Raise energy<br>Mood: Same",
          "Track: As It Was<br>Artist: Harry Styles<br>Artist Genres: pop<br>Key: F#m<br>Energy: Perfectly harmonic<br>Mood: Darken",
          "Track: Thunder<br>Artist: Imagine Dragons<br>Artist Genres: modern rock | pop | rock<br>Key: C<br>Energy: Raise energy<br>Mood: Brighten",
          "Track: 505<br>Artist: Arctic Monkeys<br>Artist Genres: garage rock | modern rock | permanent wave | rock | sheffield indie<br>Key: C<br>Energy: Perfectly harmonic<br>Mood: Same",
          "Track: Knockin' On Heaven's Door<br>Artist: Guns N' Roses<br>Artist Genres: glam metal | hard rock | rock<br>Key: F#<br>Energy: nan<br>Mood: nan"
         ],
         "line": {
          "color": "#d57800"
         },
         "mode": "lines+markers",
         "showlegend": false,
         "type": "scatter",
         "x": [
          4.45,
          7.78,
          11.29,
          14.26,
          17.05,
          20.17,
          24.400000000000002,
          30
         ],
         "xaxis": "x6",
         "y": [
          0,
          1,
          1.5,
          0,
          1,
          1,
          2,
          1.5
         ],
         "yaxis": "y11"
        },
        {
         "hovertext": [
          "Track: Yellow<br>Artist: Coldplay<br>Artist Genres: permanent wave | pop<br>Key: B<br>Energy: Perfectly harmonic<br>Mood: Same",
          "Track: Blinding Lights<br>Artist: The Weeknd<br>Artist Genres: canadian contemporary r&b | canadian pop | pop<br>Key: C#<br>Energy: Raise energy<br>Mood: Same",
          "Track: Heart Attack<br>Artist: Demi Lovato<br>Artist Genres: pop | post-teen pop<br>Key: G#<br>Energy: Raise energy<br>Mood: Same",
          "Track: Cruel Summer<br>Artist: Taylor Swift<br>Artist Genres: pop<br>Key: A<br>Energy: Raise energy<br>Mood: Same",
          "Track: As It Was<br>Artist: Harry Styles<br>Artist Genres: pop<br>Key: F#m<br>Energy: Perfectly harmonic<br>Mood: Darken",
          "Track: Thunder<br>Artist: Imagine Dragons<br>Artist Genres: modern rock | pop | rock<br>Key: C<br>Energy: Raise energy<br>Mood: Brighten",
          "Track: 505<br>Artist: Arctic Monkeys<br>Artist Genres: garage rock | modern rock | permanent wave | rock | sheffield indie<br>Key: C<br>Energy: Perfectly harmonic<br>Mood: Same",
          "Track: Knockin' On Heaven's Door<br>Artist: Guns N' Roses<br>Artist Genres: glam metal | hard rock | rock<br>Key: F#<br>Energy: nan<br>Mood: nan"
         ],
         "line": {
          "color": "#154734"
         },
         "mode": "lines+markers",
         "showlegend": false,
         "type": "scatter",
         "x": [
          4.45,
          7.78,
          11.29,
          14.26,
          17.05,
          20.17,
          24.400000000000002,
          30
         ],
         "xaxis": "x6",
         "y": [
          0,
          -4,
          -2,
          -1,
          -1,
          -8,
          -4,
          -9
         ],
         "yaxis": "y12"
        },
        {
         "hoverinfo": "text",
         "hovertext": [
          "Track: Yellow<br>Artist: Coldplay<br>Artist Genres: permanent wave | pop<br>Key: B<br>Energy: Perfectly harmonic<br>Mood: Same",
          "Track: Blinding Lights<br>Artist: The Weeknd<br>Artist Genres: canadian contemporary r&b | canadian pop | pop<br>Key: C#<br>Energy: Raise energy<br>Mood: Same",
          "Track: Heart Attack<br>Artist: Demi Lovato<br>Artist Genres: pop | post-teen pop<br>Key: G#<br>Energy: Raise energy<br>Mood: Same",
          "Track: Cruel Summer<br>Artist: Taylor Swift<br>Artist Genres: pop<br>Key: A<br>Energy: Raise energy<br>Mood: Same",
          "Track: As It Was<br>Artist: Harry Styles<br>Artist Genres: pop<br>Key: F#m<br>Energy: Perfectly harmonic<br>Mood: Darken",
          "Track: Thunder<br>Artist: Imagine Dragons<br>Artist Genres: modern rock | pop | rock<br>Key: C<br>Energy: Raise energy<br>Mood: Brighten",
          "Track: 505<br>Artist: Arctic Monkeys<br>Artist Genres: garage rock | modern rock | permanent wave | rock | sheffield indie<br>Key: C<br>Energy: Perfectly harmonic<br>Mood: Same",
          "Track: Knockin' On Heaven's Door<br>Artist: Guns N' Roses<br>Artist Genres: glam metal | hard rock | rock<br>Key: F#<br>Energy: nan<br>Mood: nan"
         ],
         "marker": {
          "color": [
           "#046a38",
           "#addc91",
           "#addc91",
           "#addc91",
           "#71b2c9",
           "#c8102e",
           "#addc91",
           "#5f259f"
          ]
         },
         "showlegend": false,
         "type": "bar",
         "width": 1,
         "x": [
          4.45,
          7.78,
          11.29,
          14.26,
          17.05,
          20.17,
          24.400000000000002,
          30
         ],
         "xaxis": "x5",
         "y": [
          0.285,
          0.334,
          0.502,
          0.564,
          0.662,
          0.288,
          0.234,
          0.377
         ],
         "yaxis": "y9"
        },
        {
         "hovertext": [
          "Track: Yellow<br>Artist: Coldplay<br>Artist Genres: permanent wave | pop<br>Key: B<br>Energy: Perfectly harmonic<br>Mood: Same",
          "Track: Blinding Lights<br>Artist: The Weeknd<br>Artist Genres: canadian contemporary r&b | canadian pop | pop<br>Key: C#<br>Energy: Raise energy<br>Mood: Same",
          "Track: Heart Attack<br>Artist: Demi Lovato<br>Artist Genres: pop | post-teen pop<br>Key: G#<br>Energy: Raise energy<br>Mood: Same",
          "Track: Cruel Summer<br>Artist: Taylor Swift<br>Artist Genres: pop<br>Key: A<br>Energy: Raise energy<br>Mood: Same",
          "Track: As It Was<br>Artist: Harry Styles<br>Artist Genres: pop<br>Key: F#m<br>Energy: Perfectly harmonic<br>Mood: Darken",
          "Track: Thunder<br>Artist: Imagine Dragons<br>Artist Genres: modern rock | pop | rock<br>Key: C<br>Energy: Raise energy<br>Mood: Brighten",
          "Track: 505<br>Artist: Arctic Monkeys<br>Artist Genres: garage rock | modern rock | permanent wave | rock | sheffield indie<br>Key: C<br>Energy: Perfectly harmonic<br>Mood: Same",
          "Track: Knockin' On Heaven's Door<br>Artist: Guns N' Roses<br>Artist Genres: glam metal | hard rock | rock<br>Key: F#<br>Energy: nan<br>Mood: nan"
         ],
         "line": {
          "color": "#d57800"
         },
         "mode": "lines+markers",
         "showlegend": false,
         "type": "scatter",
         "x": [
          4.45,
          7.78,
          11.29,
          14.26,
          17.05,
          20.17,
          24.400000000000002,
          30
         ],
         "xaxis": "x6",
         "y": [
          0,
          1,
          1.5,
          0,
          1,
          1,
          2,
          1.5
         ],
         "yaxis": "y11"
        },
        {
         "hovertext": [
          "Track: Yellow<br>Artist: Coldplay<br>Artist Genres: permanent wave | pop<br>Key: B<br>Energy: Perfectly harmonic<br>Mood: Same",
          "Track: Blinding Lights<br>Artist: The Weeknd<br>Artist Genres: canadian contemporary r&b | canadian pop | pop<br>Key: C#<br>Energy: Raise energy<br>Mood: Same",
          "Track: Heart Attack<br>Artist: Demi Lovato<br>Artist Genres: pop | post-teen pop<br>Key: G#<br>Energy: Raise energy<br>Mood: Same",
          "Track: Cruel Summer<br>Artist: Taylor Swift<br>Artist Genres: pop<br>Key: A<br>Energy: Raise energy<br>Mood: Same",
          "Track: As It Was<br>Artist: Harry Styles<br>Artist Genres: pop<br>Key: F#m<br>Energy: Perfectly harmonic<br>Mood: Darken",
          "Track: Thunder<br>Artist: Imagine Dragons<br>Artist Genres: modern rock | pop | rock<br>Key: C<br>Energy: Raise energy<br>Mood: Brighten",
          "Track: 505<br>Artist: Arctic Monkeys<br>Artist Genres: garage rock | modern rock | permanent wave | rock | sheffield indie<br>Key: C<br>Energy: Perfectly harmonic<br>Mood: Same",
          "Track: Knockin' On Heaven's Door<br>Artist: Guns N' Roses<br>Artist Genres: glam metal | hard rock | rock<br>Key: F#<br>Energy: nan<br>Mood: nan"
         ],
         "line": {
          "color": "#154734"
         },
         "mode": "lines+markers",
         "showlegend": false,
         "type": "scatter",
         "x": [
          4.45,
          7.78,
          11.29,
          14.26,
          17.05,
          20.17,
          24.400000000000002,
          30
         ],
         "xaxis": "x6",
         "y": [
          0,
          -4,
          -2,
          -1,
          -1,
          -8,
          -4,
          -9
         ],
         "yaxis": "y12"
        },
        {
         "marker": {
          "color": "#046a38",
          "size": 10
         },
         "mode": "markers",
         "name": "first track",
         "showlegend": true,
         "type": "scatter",
         "x": [
          null
         ],
         "xaxis": "x6",
         "y": [
          null
         ],
         "yaxis": "y11"
        },
        {
         "marker": {
          "color": "#c8102e",
          "size": 10
         },
         "mode": "markers",
         "name": "brighten",
         "showlegend": true,
         "type": "scatter",
         "x": [
          null
         ],
         "xaxis": "x6",
         "y": [
          null
         ],
         "yaxis": "y11"
        },
        {
         "marker": {
          "color": "#71b2c9",
          "size": 10
         },
         "mode": "markers",
         "name": "darken",
         "showlegend": true,
         "type": "scatter",
         "x": [
          null
         ],
         "xaxis": "x6",
         "y": [
          null
         ],
         "yaxis": "y11"
        },
        {
         "marker": {
          "color": "#addc91",
          "size": 10
         },
         "mode": "markers",
         "name": "same",
         "showlegend": true,
         "type": "scatter",
         "x": [
          null
         ],
         "xaxis": "x6",
         "y": [
          null
         ],
         "yaxis": "y11"
        },
        {
         "marker": {
          "color": "#5f259f",
          "size": 10
         },
         "mode": "markers",
         "name": "random from random track",
         "showlegend": true,
         "type": "scatter",
         "x": [
          null
         ],
         "xaxis": "x6",
         "y": [
          null
         ],
         "yaxis": "y11"
        },
        {
         "marker": {
          "color": "#154734",
          "size": 10
         },
         "mode": "markers",
         "name": "nearest neighbor index position",
         "showlegend": true,
         "type": "scatter",
         "x": [
          null
         ],
         "xaxis": "x6",
         "y": [
          null
         ],
         "yaxis": "y11"
        },
        {
         "marker": {
          "color": "#d57800",
          "size": 10
         },
         "mode": "markers",
         "name": "word match score",
         "showlegend": true,
         "type": "scatter",
         "x": [
          null
         ],
         "xaxis": "x6",
         "y": [
          null
         ],
         "yaxis": "y11"
        }
       ],
       "layout": {
        "annotations": [
         {
          "font": {
           "size": 16
          },
          "showarrow": false,
          "text": "acousticness",
          "x": 0.14666666666666664,
          "xanchor": "center",
          "xref": "paper",
          "y": 1,
          "yanchor": "bottom",
          "yref": "paper"
         },
         {
          "font": {
           "size": 16
          },
          "showarrow": false,
          "text": "danceability",
          "x": 0.46999999999999986,
          "xanchor": "center",
          "xref": "paper",
          "y": 1,
          "yanchor": "bottom",
          "yref": "paper"
         },
         {
          "font": {
           "size": 16
          },
          "showarrow": false,
          "text": "energy",
          "x": 0.7933333333333331,
          "xanchor": "center",
          "xref": "paper",
          "y": 1,
          "yanchor": "bottom",
          "yref": "paper"
         },
         {
          "font": {
           "size": 16
          },
          "showarrow": false,
          "text": "tempo",
          "x": 0.14666666666666664,
          "xanchor": "center",
          "xref": "paper",
          "y": 0.4,
          "yanchor": "bottom",
          "yref": "paper"
         },
         {
          "font": {
           "size": 16
          },
          "showarrow": false,
          "text": "valence",
          "x": 0.46999999999999986,
          "xanchor": "center",
          "xref": "paper",
          "y": 0.4,
          "yanchor": "bottom",
          "yref": "paper"
         },
         {
          "font": {
           "size": 14
          },
          "showarrow": false,
          "text": "Playlist Length (minutes)",
          "x": 0.5,
          "xref": "paper",
          "y": -0.2,
          "yref": "paper"
         }
        ],
        "autosize": true,
        "legend": {
         "font": {
          "size": 12
         },
         "title": {
          "text": "Color Map"
         },
         "x": 1.17,
         "xanchor": "right",
         "y": 0.5,
         "yanchor": "middle"
        },
        "template": {
         "data": {
          "bar": [
           {
            "error_x": {
             "color": "#2a3f5f"
            },
            "error_y": {
             "color": "#2a3f5f"
            },
            "marker": {
             "line": {
              "color": "#E5ECF6",
              "width": 0.5
             },
             "pattern": {
              "fillmode": "overlay",
              "size": 10,
              "solidity": 0.2
             }
            },
            "type": "bar"
           }
          ],
          "barpolar": [
           {
            "marker": {
             "line": {
              "color": "#E5ECF6",
              "width": 0.5
             },
             "pattern": {
              "fillmode": "overlay",
              "size": 10,
              "solidity": 0.2
             }
            },
            "type": "barpolar"
           }
          ],
          "carpet": [
           {
            "aaxis": {
             "endlinecolor": "#2a3f5f",
             "gridcolor": "white",
             "linecolor": "white",
             "minorgridcolor": "white",
             "startlinecolor": "#2a3f5f"
            },
            "baxis": {
             "endlinecolor": "#2a3f5f",
             "gridcolor": "white",
             "linecolor": "white",
             "minorgridcolor": "white",
             "startlinecolor": "#2a3f5f"
            },
            "type": "carpet"
           }
          ],
          "choropleth": [
           {
            "colorbar": {
             "outlinewidth": 0,
             "ticks": ""
            },
            "type": "choropleth"
           }
          ],
          "contour": [
           {
            "colorbar": {
             "outlinewidth": 0,
             "ticks": ""
            },
            "colorscale": [
             [
              0,
              "#0d0887"
             ],
             [
              0.1111111111111111,
              "#46039f"
             ],
             [
              0.2222222222222222,
              "#7201a8"
             ],
             [
              0.3333333333333333,
              "#9c179e"
             ],
             [
              0.4444444444444444,
              "#bd3786"
             ],
             [
              0.5555555555555556,
              "#d8576b"
             ],
             [
              0.6666666666666666,
              "#ed7953"
             ],
             [
              0.7777777777777778,
              "#fb9f3a"
             ],
             [
              0.8888888888888888,
              "#fdca26"
             ],
             [
              1,
              "#f0f921"
             ]
            ],
            "type": "contour"
           }
          ],
          "contourcarpet": [
           {
            "colorbar": {
             "outlinewidth": 0,
             "ticks": ""
            },
            "type": "contourcarpet"
           }
          ],
          "heatmap": [
           {
            "colorbar": {
             "outlinewidth": 0,
             "ticks": ""
            },
            "colorscale": [
             [
              0,
              "#0d0887"
             ],
             [
              0.1111111111111111,
              "#46039f"
             ],
             [
              0.2222222222222222,
              "#7201a8"
             ],
             [
              0.3333333333333333,
              "#9c179e"
             ],
             [
              0.4444444444444444,
              "#bd3786"
             ],
             [
              0.5555555555555556,
              "#d8576b"
             ],
             [
              0.6666666666666666,
              "#ed7953"
             ],
             [
              0.7777777777777778,
              "#fb9f3a"
             ],
             [
              0.8888888888888888,
              "#fdca26"
             ],
             [
              1,
              "#f0f921"
             ]
            ],
            "type": "heatmap"
           }
          ],
          "heatmapgl": [
           {
            "colorbar": {
             "outlinewidth": 0,
             "ticks": ""
            },
            "colorscale": [
             [
              0,
              "#0d0887"
             ],
             [
              0.1111111111111111,
              "#46039f"
             ],
             [
              0.2222222222222222,
              "#7201a8"
             ],
             [
              0.3333333333333333,
              "#9c179e"
             ],
             [
              0.4444444444444444,
              "#bd3786"
             ],
             [
              0.5555555555555556,
              "#d8576b"
             ],
             [
              0.6666666666666666,
              "#ed7953"
             ],
             [
              0.7777777777777778,
              "#fb9f3a"
             ],
             [
              0.8888888888888888,
              "#fdca26"
             ],
             [
              1,
              "#f0f921"
             ]
            ],
            "type": "heatmapgl"
           }
          ],
          "histogram": [
           {
            "marker": {
             "pattern": {
              "fillmode": "overlay",
              "size": 10,
              "solidity": 0.2
             }
            },
            "type": "histogram"
           }
          ],
          "histogram2d": [
           {
            "colorbar": {
             "outlinewidth": 0,
             "ticks": ""
            },
            "colorscale": [
             [
              0,
              "#0d0887"
             ],
             [
              0.1111111111111111,
              "#46039f"
             ],
             [
              0.2222222222222222,
              "#7201a8"
             ],
             [
              0.3333333333333333,
              "#9c179e"
             ],
             [
              0.4444444444444444,
              "#bd3786"
             ],
             [
              0.5555555555555556,
              "#d8576b"
             ],
             [
              0.6666666666666666,
              "#ed7953"
             ],
             [
              0.7777777777777778,
              "#fb9f3a"
             ],
             [
              0.8888888888888888,
              "#fdca26"
             ],
             [
              1,
              "#f0f921"
             ]
            ],
            "type": "histogram2d"
           }
          ],
          "histogram2dcontour": [
           {
            "colorbar": {
             "outlinewidth": 0,
             "ticks": ""
            },
            "colorscale": [
             [
              0,
              "#0d0887"
             ],
             [
              0.1111111111111111,
              "#46039f"
             ],
             [
              0.2222222222222222,
              "#7201a8"
             ],
             [
              0.3333333333333333,
              "#9c179e"
             ],
             [
              0.4444444444444444,
              "#bd3786"
             ],
             [
              0.5555555555555556,
              "#d8576b"
             ],
             [
              0.6666666666666666,
              "#ed7953"
             ],
             [
              0.7777777777777778,
              "#fb9f3a"
             ],
             [
              0.8888888888888888,
              "#fdca26"
             ],
             [
              1,
              "#f0f921"
             ]
            ],
            "type": "histogram2dcontour"
           }
          ],
          "mesh3d": [
           {
            "colorbar": {
             "outlinewidth": 0,
             "ticks": ""
            },
            "type": "mesh3d"
           }
          ],
          "parcoords": [
           {
            "line": {
             "colorbar": {
              "outlinewidth": 0,
              "ticks": ""
             }
            },
            "type": "parcoords"
           }
          ],
          "pie": [
           {
            "automargin": true,
            "type": "pie"
           }
          ],
          "scatter": [
           {
            "fillpattern": {
             "fillmode": "overlay",
             "size": 10,
             "solidity": 0.2
            },
            "type": "scatter"
           }
          ],
          "scatter3d": [
           {
            "line": {
             "colorbar": {
              "outlinewidth": 0,
              "ticks": ""
             }
            },
            "marker": {
             "colorbar": {
              "outlinewidth": 0,
              "ticks": ""
             }
            },
            "type": "scatter3d"
           }
          ],
          "scattercarpet": [
           {
            "marker": {
             "colorbar": {
              "outlinewidth": 0,
              "ticks": ""
             }
            },
            "type": "scattercarpet"
           }
          ],
          "scattergeo": [
           {
            "marker": {
             "colorbar": {
              "outlinewidth": 0,
              "ticks": ""
             }
            },
            "type": "scattergeo"
           }
          ],
          "scattergl": [
           {
            "marker": {
             "colorbar": {
              "outlinewidth": 0,
              "ticks": ""
             }
            },
            "type": "scattergl"
           }
          ],
          "scattermapbox": [
           {
            "marker": {
             "colorbar": {
              "outlinewidth": 0,
              "ticks": ""
             }
            },
            "type": "scattermapbox"
           }
          ],
          "scatterpolar": [
           {
            "marker": {
             "colorbar": {
              "outlinewidth": 0,
              "ticks": ""
             }
            },
            "type": "scatterpolar"
           }
          ],
          "scatterpolargl": [
           {
            "marker": {
             "colorbar": {
              "outlinewidth": 0,
              "ticks": ""
             }
            },
            "type": "scatterpolargl"
           }
          ],
          "scatterternary": [
           {
            "marker": {
             "colorbar": {
              "outlinewidth": 0,
              "ticks": ""
             }
            },
            "type": "scatterternary"
           }
          ],
          "surface": [
           {
            "colorbar": {
             "outlinewidth": 0,
             "ticks": ""
            },
            "colorscale": [
             [
              0,
              "#0d0887"
             ],
             [
              0.1111111111111111,
              "#46039f"
             ],
             [
              0.2222222222222222,
              "#7201a8"
             ],
             [
              0.3333333333333333,
              "#9c179e"
             ],
             [
              0.4444444444444444,
              "#bd3786"
             ],
             [
              0.5555555555555556,
              "#d8576b"
             ],
             [
              0.6666666666666666,
              "#ed7953"
             ],
             [
              0.7777777777777778,
              "#fb9f3a"
             ],
             [
              0.8888888888888888,
              "#fdca26"
             ],
             [
              1,
              "#f0f921"
             ]
            ],
            "type": "surface"
           }
          ],
          "table": [
           {
            "cells": {
             "fill": {
              "color": "#EBF0F8"
             },
             "line": {
              "color": "white"
             }
            },
            "header": {
             "fill": {
              "color": "#C8D4E3"
             },
             "line": {
              "color": "white"
             }
            },
            "type": "table"
           }
          ]
         },
         "layout": {
          "annotationdefaults": {
           "arrowcolor": "#2a3f5f",
           "arrowhead": 0,
           "arrowwidth": 1
          },
          "autotypenumbers": "strict",
          "coloraxis": {
           "colorbar": {
            "outlinewidth": 0,
            "ticks": ""
           }
          },
          "colorscale": {
           "diverging": [
            [
             0,
             "#8e0152"
            ],
            [
             0.1,
             "#c51b7d"
            ],
            [
             0.2,
             "#de77ae"
            ],
            [
             0.3,
             "#f1b6da"
            ],
            [
             0.4,
             "#fde0ef"
            ],
            [
             0.5,
             "#f7f7f7"
            ],
            [
             0.6,
             "#e6f5d0"
            ],
            [
             0.7,
             "#b8e186"
            ],
            [
             0.8,
             "#7fbc41"
            ],
            [
             0.9,
             "#4d9221"
            ],
            [
             1,
             "#276419"
            ]
           ],
           "sequential": [
            [
             0,
             "#0d0887"
            ],
            [
             0.1111111111111111,
             "#46039f"
            ],
            [
             0.2222222222222222,
             "#7201a8"
            ],
            [
             0.3333333333333333,
             "#9c179e"
            ],
            [
             0.4444444444444444,
             "#bd3786"
            ],
            [
             0.5555555555555556,
             "#d8576b"
            ],
            [
             0.6666666666666666,
             "#ed7953"
            ],
            [
             0.7777777777777778,
             "#fb9f3a"
            ],
            [
             0.8888888888888888,
             "#fdca26"
            ],
            [
             1,
             "#f0f921"
            ]
           ],
           "sequentialminus": [
            [
             0,
             "#0d0887"
            ],
            [
             0.1111111111111111,
             "#46039f"
            ],
            [
             0.2222222222222222,
             "#7201a8"
            ],
            [
             0.3333333333333333,
             "#9c179e"
            ],
            [
             0.4444444444444444,
             "#bd3786"
            ],
            [
             0.5555555555555556,
             "#d8576b"
            ],
            [
             0.6666666666666666,
             "#ed7953"
            ],
            [
             0.7777777777777778,
             "#fb9f3a"
            ],
            [
             0.8888888888888888,
             "#fdca26"
            ],
            [
             1,
             "#f0f921"
            ]
           ]
          },
          "colorway": [
           "#636efa",
           "#EF553B",
           "#00cc96",
           "#ab63fa",
           "#FFA15A",
           "#19d3f3",
           "#FF6692",
           "#B6E880",
           "#FF97FF",
           "#FECB52"
          ],
          "font": {
           "color": "#2a3f5f"
          },
          "geo": {
           "bgcolor": "white",
           "lakecolor": "white",
           "landcolor": "#E5ECF6",
           "showlakes": true,
           "showland": true,
           "subunitcolor": "white"
          },
          "hoverlabel": {
           "align": "left"
          },
          "hovermode": "closest",
          "mapbox": {
           "style": "light"
          },
          "paper_bgcolor": "white",
          "plot_bgcolor": "#E5ECF6",
          "polar": {
           "angularaxis": {
            "gridcolor": "white",
            "linecolor": "white",
            "ticks": ""
           },
           "bgcolor": "#E5ECF6",
           "radialaxis": {
            "gridcolor": "white",
            "linecolor": "white",
            "ticks": ""
           }
          },
          "scene": {
           "xaxis": {
            "backgroundcolor": "#E5ECF6",
            "gridcolor": "white",
            "gridwidth": 2,
            "linecolor": "white",
            "showbackground": true,
            "ticks": "",
            "zerolinecolor": "white"
           },
           "yaxis": {
            "backgroundcolor": "#E5ECF6",
            "gridcolor": "white",
            "gridwidth": 2,
            "linecolor": "white",
            "showbackground": true,
            "ticks": "",
            "zerolinecolor": "white"
           },
           "zaxis": {
            "backgroundcolor": "#E5ECF6",
            "gridcolor": "white",
            "gridwidth": 2,
            "linecolor": "white",
            "showbackground": true,
            "ticks": "",
            "zerolinecolor": "white"
           }
          },
          "shapedefaults": {
           "line": {
            "color": "#2a3f5f"
           }
          },
          "ternary": {
           "aaxis": {
            "gridcolor": "white",
            "linecolor": "white",
            "ticks": ""
           },
           "baxis": {
            "gridcolor": "white",
            "linecolor": "white",
            "ticks": ""
           },
           "bgcolor": "#E5ECF6",
           "caxis": {
            "gridcolor": "white",
            "linecolor": "white",
            "ticks": ""
           }
          },
          "title": {
           "x": 0.05
          },
          "xaxis": {
           "automargin": true,
           "gridcolor": "white",
           "linecolor": "white",
           "ticks": "",
           "title": {
            "standoff": 15
           },
           "zerolinecolor": "white",
           "zerolinewidth": 2
          },
          "yaxis": {
           "automargin": true,
           "gridcolor": "white",
           "linecolor": "white",
           "ticks": "",
           "title": {
            "standoff": 15
           },
           "zerolinecolor": "white",
           "zerolinewidth": 2
          }
         }
        },
        "title": {
         "text": "Playlist 'My Awesome Mixtape vol.1' analysis",
         "x": 0.5,
         "xanchor": "center",
         "y": 0.9,
         "yanchor": "bottom"
        },
        "xaxis": {
         "anchor": "y",
         "domain": [
          0,
          0.2933333333333333
         ],
         "dtick": 5,
         "matches": "x4",
         "showticklabels": true,
         "tickfont": {
          "size": 10
         },
         "tickmode": "linear"
        },
        "xaxis2": {
         "anchor": "y3",
         "domain": [
          0.32333333333333325,
          0.6166666666666665
         ],
         "dtick": 5,
         "matches": "x5",
         "showticklabels": true,
         "tickfont": {
          "size": 10
         },
         "tickmode": "linear"
        },
        "xaxis3": {
         "anchor": "y5",
         "domain": [
          0.6466666666666665,
          0.9399999999999997
         ],
         "dtick": 5,
         "matches": "x6",
         "showticklabels": true,
         "tickfont": {
          "size": 10
         },
         "tickmode": "linear"
        },
        "xaxis4": {
         "anchor": "y7",
         "domain": [
          0,
          0.2933333333333333
         ],
         "dtick": 5,
         "showticklabels": true,
         "tickfont": {
          "size": 10
         },
         "tickmode": "linear"
        },
        "xaxis5": {
         "anchor": "y9",
         "domain": [
          0.32333333333333325,
          0.6166666666666665
         ],
         "dtick": 5,
         "showticklabels": true,
         "tickfont": {
          "size": 10
         },
         "tickmode": "linear"
        },
        "xaxis6": {
         "anchor": "y11",
         "domain": [
          0.6466666666666665,
          0.9399999999999997
         ],
         "dtick": 5,
         "tickfont": {
          "size": 10
         },
         "tickmode": "linear"
        },
        "yaxis": {
         "anchor": "x",
         "domain": [
          0.6000000000000001,
          1
         ]
        },
        "yaxis10": {
         "anchor": "x5",
         "overlaying": "y9",
         "side": "right"
        },
        "yaxis11": {
         "anchor": "x6",
         "domain": [
          0,
          0.4
         ]
        },
        "yaxis12": {
         "anchor": "x6",
         "overlaying": "y11",
         "side": "right"
        },
        "yaxis2": {
         "anchor": "x",
         "overlaying": "y",
         "side": "right"
        },
        "yaxis3": {
         "anchor": "x2",
         "domain": [
          0.6000000000000001,
          1
         ]
        },
        "yaxis4": {
         "anchor": "x2",
         "overlaying": "y3",
         "side": "right"
        },
        "yaxis5": {
         "anchor": "x3",
         "domain": [
          0.6000000000000001,
          1
         ]
        },
        "yaxis6": {
         "anchor": "x3",
         "overlaying": "y5",
         "side": "right"
        },
        "yaxis7": {
         "anchor": "x4",
         "domain": [
          0,
          0.4
         ]
        },
        "yaxis8": {
         "anchor": "x4",
         "overlaying": "y7",
         "side": "right"
        },
        "yaxis9": {
         "anchor": "x5",
         "domain": [
          0,
          0.4
         ]
        }
       }
      }
     },
     "metadata": {},
     "output_type": "display_data"
    }
   ],
   "source": [
    "myplts.plot_my_playlist(my_playlist, \"My Awesome Mixtape vol.1\")"
   ]
  },
  {
   "cell_type": "markdown",
   "metadata": {},
   "source": [
    "Create Playlist"
   ]
  },
  {
   "cell_type": "code",
   "execution_count": null,
   "metadata": {},
   "outputs": [],
   "source": [
    "export_playlist(\"Quoc-Anh's awesome mixtape vol.1\", my_playlist.index.tolist())"
   ]
  }
 ],
 "metadata": {
  "kernelspec": {
   "display_name": "base",
   "language": "python",
   "name": "python3"
  },
  "language_info": {
   "codemirror_mode": {
    "name": "ipython",
    "version": 3
   },
   "file_extension": ".py",
   "mimetype": "text/x-python",
   "name": "python",
   "nbconvert_exporter": "python",
   "pygments_lexer": "ipython3",
   "version": "3.11.7"
  }
 },
 "nbformat": 4,
 "nbformat_minor": 2
}
